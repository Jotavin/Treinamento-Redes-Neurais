{
  "nbformat": 4,
  "nbformat_minor": 0,
  "metadata": {
    "colab": {
      "provenance": [],
      "collapsed_sections": [
        "eVXzg2e7cfVo",
        "CG3SCo9ucpK0",
        "42eUind-U7PQ"
      ]
    },
    "kernelspec": {
      "name": "python3",
      "display_name": "Python 3"
    },
    "language_info": {
      "name": "python"
    },
    "widgets": {
      "application/vnd.jupyter.widget-state+json": {
        "8c22a96c3fb5400c8001055872288e15": {
          "model_module": "@jupyter-widgets/controls",
          "model_name": "HBoxModel",
          "model_module_version": "1.5.0",
          "state": {
            "_dom_classes": [],
            "_model_module": "@jupyter-widgets/controls",
            "_model_module_version": "1.5.0",
            "_model_name": "HBoxModel",
            "_view_count": null,
            "_view_module": "@jupyter-widgets/controls",
            "_view_module_version": "1.5.0",
            "_view_name": "HBoxView",
            "box_style": "",
            "children": [
              "IPY_MODEL_ca5389690fc340eb91e4c2976b97cd58",
              "IPY_MODEL_c46f0ca959b3420ba7f97f8094b4c4b2",
              "IPY_MODEL_6c03bec91f6b42dfa1d1d6e9d312d3e9"
            ],
            "layout": "IPY_MODEL_bc18a39a62ba460a86ad8147e15eee79"
          }
        },
        "ca5389690fc340eb91e4c2976b97cd58": {
          "model_module": "@jupyter-widgets/controls",
          "model_name": "HTMLModel",
          "model_module_version": "1.5.0",
          "state": {
            "_dom_classes": [],
            "_model_module": "@jupyter-widgets/controls",
            "_model_module_version": "1.5.0",
            "_model_name": "HTMLModel",
            "_view_count": null,
            "_view_module": "@jupyter-widgets/controls",
            "_view_module_version": "1.5.0",
            "_view_name": "HTMLView",
            "description": "",
            "description_tooltip": null,
            "layout": "IPY_MODEL_7a9b120aa6b4467b9a40564aad5330d3",
            "placeholder": "​",
            "style": "IPY_MODEL_4020923b6267476f9bb311f93e304e7c",
            "value": "Done! Use &#x27;show&#x27; commands to display/save.   "
          }
        },
        "c46f0ca959b3420ba7f97f8094b4c4b2": {
          "model_module": "@jupyter-widgets/controls",
          "model_name": "FloatProgressModel",
          "model_module_version": "1.5.0",
          "state": {
            "_dom_classes": [],
            "_model_module": "@jupyter-widgets/controls",
            "_model_module_version": "1.5.0",
            "_model_name": "FloatProgressModel",
            "_view_count": null,
            "_view_module": "@jupyter-widgets/controls",
            "_view_module_version": "1.5.0",
            "_view_name": "ProgressView",
            "bar_style": "success",
            "description": "",
            "description_tooltip": null,
            "layout": "IPY_MODEL_8f4a3f72d7d94a9ab99266098e3ac933",
            "max": 1,
            "min": 0,
            "orientation": "horizontal",
            "style": "IPY_MODEL_61e3bbd4ee2043c0a1f2d5c78aed0262",
            "value": 1
          }
        },
        "6c03bec91f6b42dfa1d1d6e9d312d3e9": {
          "model_module": "@jupyter-widgets/controls",
          "model_name": "HTMLModel",
          "model_module_version": "1.5.0",
          "state": {
            "_dom_classes": [],
            "_model_module": "@jupyter-widgets/controls",
            "_model_module_version": "1.5.0",
            "_model_name": "HTMLModel",
            "_view_count": null,
            "_view_module": "@jupyter-widgets/controls",
            "_view_module_version": "1.5.0",
            "_view_name": "HTMLView",
            "description": "",
            "description_tooltip": null,
            "layout": "IPY_MODEL_7346877993fa4852a695c1ff11831011",
            "placeholder": "​",
            "style": "IPY_MODEL_fe797ec76973420a9baa761f8fcead37",
            "value": " [100%]   00:18 -&gt; (00:00 left)"
          }
        },
        "bc18a39a62ba460a86ad8147e15eee79": {
          "model_module": "@jupyter-widgets/base",
          "model_name": "LayoutModel",
          "model_module_version": "1.2.0",
          "state": {
            "_model_module": "@jupyter-widgets/base",
            "_model_module_version": "1.2.0",
            "_model_name": "LayoutModel",
            "_view_count": null,
            "_view_module": "@jupyter-widgets/base",
            "_view_module_version": "1.2.0",
            "_view_name": "LayoutView",
            "align_content": null,
            "align_items": null,
            "align_self": null,
            "border": null,
            "bottom": null,
            "display": "inline-flex",
            "flex": null,
            "flex_flow": "row wrap",
            "grid_area": null,
            "grid_auto_columns": null,
            "grid_auto_flow": null,
            "grid_auto_rows": null,
            "grid_column": null,
            "grid_gap": null,
            "grid_row": null,
            "grid_template_areas": null,
            "grid_template_columns": null,
            "grid_template_rows": null,
            "height": null,
            "justify_content": null,
            "justify_items": null,
            "left": null,
            "margin": null,
            "max_height": null,
            "max_width": null,
            "min_height": null,
            "min_width": null,
            "object_fit": null,
            "object_position": null,
            "order": null,
            "overflow": null,
            "overflow_x": null,
            "overflow_y": null,
            "padding": null,
            "right": null,
            "top": null,
            "visibility": null,
            "width": "100%"
          }
        },
        "7a9b120aa6b4467b9a40564aad5330d3": {
          "model_module": "@jupyter-widgets/base",
          "model_name": "LayoutModel",
          "model_module_version": "1.2.0",
          "state": {
            "_model_module": "@jupyter-widgets/base",
            "_model_module_version": "1.2.0",
            "_model_name": "LayoutModel",
            "_view_count": null,
            "_view_module": "@jupyter-widgets/base",
            "_view_module_version": "1.2.0",
            "_view_name": "LayoutView",
            "align_content": null,
            "align_items": null,
            "align_self": null,
            "border": null,
            "bottom": null,
            "display": null,
            "flex": null,
            "flex_flow": null,
            "grid_area": null,
            "grid_auto_columns": null,
            "grid_auto_flow": null,
            "grid_auto_rows": null,
            "grid_column": null,
            "grid_gap": null,
            "grid_row": null,
            "grid_template_areas": null,
            "grid_template_columns": null,
            "grid_template_rows": null,
            "height": null,
            "justify_content": null,
            "justify_items": null,
            "left": null,
            "margin": null,
            "max_height": null,
            "max_width": null,
            "min_height": null,
            "min_width": null,
            "object_fit": null,
            "object_position": null,
            "order": null,
            "overflow": null,
            "overflow_x": null,
            "overflow_y": null,
            "padding": null,
            "right": null,
            "top": null,
            "visibility": null,
            "width": null
          }
        },
        "4020923b6267476f9bb311f93e304e7c": {
          "model_module": "@jupyter-widgets/controls",
          "model_name": "DescriptionStyleModel",
          "model_module_version": "1.5.0",
          "state": {
            "_model_module": "@jupyter-widgets/controls",
            "_model_module_version": "1.5.0",
            "_model_name": "DescriptionStyleModel",
            "_view_count": null,
            "_view_module": "@jupyter-widgets/base",
            "_view_module_version": "1.2.0",
            "_view_name": "StyleView",
            "description_width": ""
          }
        },
        "8f4a3f72d7d94a9ab99266098e3ac933": {
          "model_module": "@jupyter-widgets/base",
          "model_name": "LayoutModel",
          "model_module_version": "1.2.0",
          "state": {
            "_model_module": "@jupyter-widgets/base",
            "_model_module_version": "1.2.0",
            "_model_name": "LayoutModel",
            "_view_count": null,
            "_view_module": "@jupyter-widgets/base",
            "_view_module_version": "1.2.0",
            "_view_name": "LayoutView",
            "align_content": null,
            "align_items": null,
            "align_self": null,
            "border": null,
            "bottom": null,
            "display": null,
            "flex": "2",
            "flex_flow": null,
            "grid_area": null,
            "grid_auto_columns": null,
            "grid_auto_flow": null,
            "grid_auto_rows": null,
            "grid_column": null,
            "grid_gap": null,
            "grid_row": null,
            "grid_template_areas": null,
            "grid_template_columns": null,
            "grid_template_rows": null,
            "height": null,
            "justify_content": null,
            "justify_items": null,
            "left": null,
            "margin": null,
            "max_height": null,
            "max_width": null,
            "min_height": null,
            "min_width": null,
            "object_fit": null,
            "object_position": null,
            "order": null,
            "overflow": null,
            "overflow_x": null,
            "overflow_y": null,
            "padding": null,
            "right": null,
            "top": null,
            "visibility": null,
            "width": null
          }
        },
        "61e3bbd4ee2043c0a1f2d5c78aed0262": {
          "model_module": "@jupyter-widgets/controls",
          "model_name": "ProgressStyleModel",
          "model_module_version": "1.5.0",
          "state": {
            "_model_module": "@jupyter-widgets/controls",
            "_model_module_version": "1.5.0",
            "_model_name": "ProgressStyleModel",
            "_view_count": null,
            "_view_module": "@jupyter-widgets/base",
            "_view_module_version": "1.2.0",
            "_view_name": "StyleView",
            "bar_color": null,
            "description_width": ""
          }
        },
        "7346877993fa4852a695c1ff11831011": {
          "model_module": "@jupyter-widgets/base",
          "model_name": "LayoutModel",
          "model_module_version": "1.2.0",
          "state": {
            "_model_module": "@jupyter-widgets/base",
            "_model_module_version": "1.2.0",
            "_model_name": "LayoutModel",
            "_view_count": null,
            "_view_module": "@jupyter-widgets/base",
            "_view_module_version": "1.2.0",
            "_view_name": "LayoutView",
            "align_content": null,
            "align_items": null,
            "align_self": null,
            "border": null,
            "bottom": null,
            "display": null,
            "flex": null,
            "flex_flow": null,
            "grid_area": null,
            "grid_auto_columns": null,
            "grid_auto_flow": null,
            "grid_auto_rows": null,
            "grid_column": null,
            "grid_gap": null,
            "grid_row": null,
            "grid_template_areas": null,
            "grid_template_columns": null,
            "grid_template_rows": null,
            "height": null,
            "justify_content": null,
            "justify_items": null,
            "left": null,
            "margin": null,
            "max_height": null,
            "max_width": null,
            "min_height": null,
            "min_width": null,
            "object_fit": null,
            "object_position": null,
            "order": null,
            "overflow": null,
            "overflow_x": null,
            "overflow_y": null,
            "padding": null,
            "right": null,
            "top": null,
            "visibility": null,
            "width": null
          }
        },
        "fe797ec76973420a9baa761f8fcead37": {
          "model_module": "@jupyter-widgets/controls",
          "model_name": "DescriptionStyleModel",
          "model_module_version": "1.5.0",
          "state": {
            "_model_module": "@jupyter-widgets/controls",
            "_model_module_version": "1.5.0",
            "_model_name": "DescriptionStyleModel",
            "_view_count": null,
            "_view_module": "@jupyter-widgets/base",
            "_view_module_version": "1.2.0",
            "_view_name": "StyleView",
            "description_width": ""
          }
        },
        "8bdf68e6823f4442859623375329075f": {
          "model_module": "@jupyter-widgets/controls",
          "model_name": "HBoxModel",
          "model_module_version": "1.5.0",
          "state": {
            "_dom_classes": [],
            "_model_module": "@jupyter-widgets/controls",
            "_model_module_version": "1.5.0",
            "_model_name": "HBoxModel",
            "_view_count": null,
            "_view_module": "@jupyter-widgets/controls",
            "_view_module_version": "1.5.0",
            "_view_name": "HBoxView",
            "box_style": "",
            "children": [
              "IPY_MODEL_f4a4c53300b34fcc9fc0b3554b024f62",
              "IPY_MODEL_0ff2197c2d9a43688e905c8631707cab",
              "IPY_MODEL_c6f8a4f6eb234764b9e8cc58ce7c3bdf"
            ],
            "layout": "IPY_MODEL_d525b53faecd434b9d8e53eb83828bfc"
          }
        },
        "f4a4c53300b34fcc9fc0b3554b024f62": {
          "model_module": "@jupyter-widgets/controls",
          "model_name": "HTMLModel",
          "model_module_version": "1.5.0",
          "state": {
            "_dom_classes": [],
            "_model_module": "@jupyter-widgets/controls",
            "_model_module_version": "1.5.0",
            "_model_name": "HTMLModel",
            "_view_count": null,
            "_view_module": "@jupyter-widgets/controls",
            "_view_module_version": "1.5.0",
            "_view_name": "HTMLView",
            "description": "",
            "description_tooltip": null,
            "layout": "IPY_MODEL_d91e5da7b2db497fa40690f3cd43a450",
            "placeholder": "​",
            "style": "IPY_MODEL_16b3d71f01e1486485179af56bf8abb1",
            "value": "Done! Use &#x27;show&#x27; commands to display/save.   "
          }
        },
        "0ff2197c2d9a43688e905c8631707cab": {
          "model_module": "@jupyter-widgets/controls",
          "model_name": "FloatProgressModel",
          "model_module_version": "1.5.0",
          "state": {
            "_dom_classes": [],
            "_model_module": "@jupyter-widgets/controls",
            "_model_module_version": "1.5.0",
            "_model_name": "FloatProgressModel",
            "_view_count": null,
            "_view_module": "@jupyter-widgets/controls",
            "_view_module_version": "1.5.0",
            "_view_name": "ProgressView",
            "bar_style": "success",
            "description": "",
            "description_tooltip": null,
            "layout": "IPY_MODEL_aff3e35c2c0d4e439e76d5202a05740c",
            "max": 1,
            "min": 0,
            "orientation": "horizontal",
            "style": "IPY_MODEL_fa85c5784b1645dcb9bf058ffb9706c2",
            "value": 1
          }
        },
        "c6f8a4f6eb234764b9e8cc58ce7c3bdf": {
          "model_module": "@jupyter-widgets/controls",
          "model_name": "HTMLModel",
          "model_module_version": "1.5.0",
          "state": {
            "_dom_classes": [],
            "_model_module": "@jupyter-widgets/controls",
            "_model_module_version": "1.5.0",
            "_model_name": "HTMLModel",
            "_view_count": null,
            "_view_module": "@jupyter-widgets/controls",
            "_view_module_version": "1.5.0",
            "_view_name": "HTMLView",
            "description": "",
            "description_tooltip": null,
            "layout": "IPY_MODEL_344ddba7b10246ce968bd415dca195b1",
            "placeholder": "​",
            "style": "IPY_MODEL_e18407b1a6b5442fb633e8469eaeb3c2",
            "value": " [100%]   00:22 -&gt; (00:00 left)"
          }
        },
        "d525b53faecd434b9d8e53eb83828bfc": {
          "model_module": "@jupyter-widgets/base",
          "model_name": "LayoutModel",
          "model_module_version": "1.2.0",
          "state": {
            "_model_module": "@jupyter-widgets/base",
            "_model_module_version": "1.2.0",
            "_model_name": "LayoutModel",
            "_view_count": null,
            "_view_module": "@jupyter-widgets/base",
            "_view_module_version": "1.2.0",
            "_view_name": "LayoutView",
            "align_content": null,
            "align_items": null,
            "align_self": null,
            "border": null,
            "bottom": null,
            "display": "inline-flex",
            "flex": null,
            "flex_flow": "row wrap",
            "grid_area": null,
            "grid_auto_columns": null,
            "grid_auto_flow": null,
            "grid_auto_rows": null,
            "grid_column": null,
            "grid_gap": null,
            "grid_row": null,
            "grid_template_areas": null,
            "grid_template_columns": null,
            "grid_template_rows": null,
            "height": null,
            "justify_content": null,
            "justify_items": null,
            "left": null,
            "margin": null,
            "max_height": null,
            "max_width": null,
            "min_height": null,
            "min_width": null,
            "object_fit": null,
            "object_position": null,
            "order": null,
            "overflow": null,
            "overflow_x": null,
            "overflow_y": null,
            "padding": null,
            "right": null,
            "top": null,
            "visibility": null,
            "width": "100%"
          }
        },
        "d91e5da7b2db497fa40690f3cd43a450": {
          "model_module": "@jupyter-widgets/base",
          "model_name": "LayoutModel",
          "model_module_version": "1.2.0",
          "state": {
            "_model_module": "@jupyter-widgets/base",
            "_model_module_version": "1.2.0",
            "_model_name": "LayoutModel",
            "_view_count": null,
            "_view_module": "@jupyter-widgets/base",
            "_view_module_version": "1.2.0",
            "_view_name": "LayoutView",
            "align_content": null,
            "align_items": null,
            "align_self": null,
            "border": null,
            "bottom": null,
            "display": null,
            "flex": null,
            "flex_flow": null,
            "grid_area": null,
            "grid_auto_columns": null,
            "grid_auto_flow": null,
            "grid_auto_rows": null,
            "grid_column": null,
            "grid_gap": null,
            "grid_row": null,
            "grid_template_areas": null,
            "grid_template_columns": null,
            "grid_template_rows": null,
            "height": null,
            "justify_content": null,
            "justify_items": null,
            "left": null,
            "margin": null,
            "max_height": null,
            "max_width": null,
            "min_height": null,
            "min_width": null,
            "object_fit": null,
            "object_position": null,
            "order": null,
            "overflow": null,
            "overflow_x": null,
            "overflow_y": null,
            "padding": null,
            "right": null,
            "top": null,
            "visibility": null,
            "width": null
          }
        },
        "16b3d71f01e1486485179af56bf8abb1": {
          "model_module": "@jupyter-widgets/controls",
          "model_name": "DescriptionStyleModel",
          "model_module_version": "1.5.0",
          "state": {
            "_model_module": "@jupyter-widgets/controls",
            "_model_module_version": "1.5.0",
            "_model_name": "DescriptionStyleModel",
            "_view_count": null,
            "_view_module": "@jupyter-widgets/base",
            "_view_module_version": "1.2.0",
            "_view_name": "StyleView",
            "description_width": ""
          }
        },
        "aff3e35c2c0d4e439e76d5202a05740c": {
          "model_module": "@jupyter-widgets/base",
          "model_name": "LayoutModel",
          "model_module_version": "1.2.0",
          "state": {
            "_model_module": "@jupyter-widgets/base",
            "_model_module_version": "1.2.0",
            "_model_name": "LayoutModel",
            "_view_count": null,
            "_view_module": "@jupyter-widgets/base",
            "_view_module_version": "1.2.0",
            "_view_name": "LayoutView",
            "align_content": null,
            "align_items": null,
            "align_self": null,
            "border": null,
            "bottom": null,
            "display": null,
            "flex": "2",
            "flex_flow": null,
            "grid_area": null,
            "grid_auto_columns": null,
            "grid_auto_flow": null,
            "grid_auto_rows": null,
            "grid_column": null,
            "grid_gap": null,
            "grid_row": null,
            "grid_template_areas": null,
            "grid_template_columns": null,
            "grid_template_rows": null,
            "height": null,
            "justify_content": null,
            "justify_items": null,
            "left": null,
            "margin": null,
            "max_height": null,
            "max_width": null,
            "min_height": null,
            "min_width": null,
            "object_fit": null,
            "object_position": null,
            "order": null,
            "overflow": null,
            "overflow_x": null,
            "overflow_y": null,
            "padding": null,
            "right": null,
            "top": null,
            "visibility": null,
            "width": null
          }
        },
        "fa85c5784b1645dcb9bf058ffb9706c2": {
          "model_module": "@jupyter-widgets/controls",
          "model_name": "ProgressStyleModel",
          "model_module_version": "1.5.0",
          "state": {
            "_model_module": "@jupyter-widgets/controls",
            "_model_module_version": "1.5.0",
            "_model_name": "ProgressStyleModel",
            "_view_count": null,
            "_view_module": "@jupyter-widgets/base",
            "_view_module_version": "1.2.0",
            "_view_name": "StyleView",
            "bar_color": null,
            "description_width": ""
          }
        },
        "344ddba7b10246ce968bd415dca195b1": {
          "model_module": "@jupyter-widgets/base",
          "model_name": "LayoutModel",
          "model_module_version": "1.2.0",
          "state": {
            "_model_module": "@jupyter-widgets/base",
            "_model_module_version": "1.2.0",
            "_model_name": "LayoutModel",
            "_view_count": null,
            "_view_module": "@jupyter-widgets/base",
            "_view_module_version": "1.2.0",
            "_view_name": "LayoutView",
            "align_content": null,
            "align_items": null,
            "align_self": null,
            "border": null,
            "bottom": null,
            "display": null,
            "flex": null,
            "flex_flow": null,
            "grid_area": null,
            "grid_auto_columns": null,
            "grid_auto_flow": null,
            "grid_auto_rows": null,
            "grid_column": null,
            "grid_gap": null,
            "grid_row": null,
            "grid_template_areas": null,
            "grid_template_columns": null,
            "grid_template_rows": null,
            "height": null,
            "justify_content": null,
            "justify_items": null,
            "left": null,
            "margin": null,
            "max_height": null,
            "max_width": null,
            "min_height": null,
            "min_width": null,
            "object_fit": null,
            "object_position": null,
            "order": null,
            "overflow": null,
            "overflow_x": null,
            "overflow_y": null,
            "padding": null,
            "right": null,
            "top": null,
            "visibility": null,
            "width": null
          }
        },
        "e18407b1a6b5442fb633e8469eaeb3c2": {
          "model_module": "@jupyter-widgets/controls",
          "model_name": "DescriptionStyleModel",
          "model_module_version": "1.5.0",
          "state": {
            "_model_module": "@jupyter-widgets/controls",
            "_model_module_version": "1.5.0",
            "_model_name": "DescriptionStyleModel",
            "_view_count": null,
            "_view_module": "@jupyter-widgets/base",
            "_view_module_version": "1.2.0",
            "_view_name": "StyleView",
            "description_width": ""
          }
        },
        "70f80cdec35348329fc7bcdbc435ad1e": {
          "model_module": "@jupyter-widgets/controls",
          "model_name": "HBoxModel",
          "model_module_version": "1.5.0",
          "state": {
            "_dom_classes": [],
            "_model_module": "@jupyter-widgets/controls",
            "_model_module_version": "1.5.0",
            "_model_name": "HBoxModel",
            "_view_count": null,
            "_view_module": "@jupyter-widgets/controls",
            "_view_module_version": "1.5.0",
            "_view_name": "HBoxView",
            "box_style": "",
            "children": [
              "IPY_MODEL_3219b4e8abde4850a5daebb88b735165",
              "IPY_MODEL_62809796743c4f81bcb628c240d4f630",
              "IPY_MODEL_beb2a94b701942f1a8bfc16276d71741"
            ],
            "layout": "IPY_MODEL_b6d3c64f2ccf44d4ad3076d5f743ebe0"
          }
        },
        "3219b4e8abde4850a5daebb88b735165": {
          "model_module": "@jupyter-widgets/controls",
          "model_name": "HTMLModel",
          "model_module_version": "1.5.0",
          "state": {
            "_dom_classes": [],
            "_model_module": "@jupyter-widgets/controls",
            "_model_module_version": "1.5.0",
            "_model_name": "HTMLModel",
            "_view_count": null,
            "_view_module": "@jupyter-widgets/controls",
            "_view_module_version": "1.5.0",
            "_view_name": "HTMLView",
            "description": "",
            "description_tooltip": null,
            "layout": "IPY_MODEL_ae1d5b66d82843e0b311ac1f0c1a40eb",
            "placeholder": "​",
            "style": "IPY_MODEL_91418988acc24005bf61db73e2446fab",
            "value": "Done! Use &#x27;show&#x27; commands to display/save.   "
          }
        },
        "62809796743c4f81bcb628c240d4f630": {
          "model_module": "@jupyter-widgets/controls",
          "model_name": "FloatProgressModel",
          "model_module_version": "1.5.0",
          "state": {
            "_dom_classes": [],
            "_model_module": "@jupyter-widgets/controls",
            "_model_module_version": "1.5.0",
            "_model_name": "FloatProgressModel",
            "_view_count": null,
            "_view_module": "@jupyter-widgets/controls",
            "_view_module_version": "1.5.0",
            "_view_name": "ProgressView",
            "bar_style": "success",
            "description": "",
            "description_tooltip": null,
            "layout": "IPY_MODEL_b3653af86311493c908235fa7336702e",
            "max": 1,
            "min": 0,
            "orientation": "horizontal",
            "style": "IPY_MODEL_ed421e723a894859b85469dad156bb13",
            "value": 1
          }
        },
        "beb2a94b701942f1a8bfc16276d71741": {
          "model_module": "@jupyter-widgets/controls",
          "model_name": "HTMLModel",
          "model_module_version": "1.5.0",
          "state": {
            "_dom_classes": [],
            "_model_module": "@jupyter-widgets/controls",
            "_model_module_version": "1.5.0",
            "_model_name": "HTMLModel",
            "_view_count": null,
            "_view_module": "@jupyter-widgets/controls",
            "_view_module_version": "1.5.0",
            "_view_name": "HTMLView",
            "description": "",
            "description_tooltip": null,
            "layout": "IPY_MODEL_625167eb057f4b128d0f0de1e85c87e1",
            "placeholder": "​",
            "style": "IPY_MODEL_c174a93eca0e42d4a6578179df3a1438",
            "value": " [100%]   00:24 -&gt; (00:00 left)"
          }
        },
        "b6d3c64f2ccf44d4ad3076d5f743ebe0": {
          "model_module": "@jupyter-widgets/base",
          "model_name": "LayoutModel",
          "model_module_version": "1.2.0",
          "state": {
            "_model_module": "@jupyter-widgets/base",
            "_model_module_version": "1.2.0",
            "_model_name": "LayoutModel",
            "_view_count": null,
            "_view_module": "@jupyter-widgets/base",
            "_view_module_version": "1.2.0",
            "_view_name": "LayoutView",
            "align_content": null,
            "align_items": null,
            "align_self": null,
            "border": null,
            "bottom": null,
            "display": "inline-flex",
            "flex": null,
            "flex_flow": "row wrap",
            "grid_area": null,
            "grid_auto_columns": null,
            "grid_auto_flow": null,
            "grid_auto_rows": null,
            "grid_column": null,
            "grid_gap": null,
            "grid_row": null,
            "grid_template_areas": null,
            "grid_template_columns": null,
            "grid_template_rows": null,
            "height": null,
            "justify_content": null,
            "justify_items": null,
            "left": null,
            "margin": null,
            "max_height": null,
            "max_width": null,
            "min_height": null,
            "min_width": null,
            "object_fit": null,
            "object_position": null,
            "order": null,
            "overflow": null,
            "overflow_x": null,
            "overflow_y": null,
            "padding": null,
            "right": null,
            "top": null,
            "visibility": null,
            "width": "100%"
          }
        },
        "ae1d5b66d82843e0b311ac1f0c1a40eb": {
          "model_module": "@jupyter-widgets/base",
          "model_name": "LayoutModel",
          "model_module_version": "1.2.0",
          "state": {
            "_model_module": "@jupyter-widgets/base",
            "_model_module_version": "1.2.0",
            "_model_name": "LayoutModel",
            "_view_count": null,
            "_view_module": "@jupyter-widgets/base",
            "_view_module_version": "1.2.0",
            "_view_name": "LayoutView",
            "align_content": null,
            "align_items": null,
            "align_self": null,
            "border": null,
            "bottom": null,
            "display": null,
            "flex": null,
            "flex_flow": null,
            "grid_area": null,
            "grid_auto_columns": null,
            "grid_auto_flow": null,
            "grid_auto_rows": null,
            "grid_column": null,
            "grid_gap": null,
            "grid_row": null,
            "grid_template_areas": null,
            "grid_template_columns": null,
            "grid_template_rows": null,
            "height": null,
            "justify_content": null,
            "justify_items": null,
            "left": null,
            "margin": null,
            "max_height": null,
            "max_width": null,
            "min_height": null,
            "min_width": null,
            "object_fit": null,
            "object_position": null,
            "order": null,
            "overflow": null,
            "overflow_x": null,
            "overflow_y": null,
            "padding": null,
            "right": null,
            "top": null,
            "visibility": null,
            "width": null
          }
        },
        "91418988acc24005bf61db73e2446fab": {
          "model_module": "@jupyter-widgets/controls",
          "model_name": "DescriptionStyleModel",
          "model_module_version": "1.5.0",
          "state": {
            "_model_module": "@jupyter-widgets/controls",
            "_model_module_version": "1.5.0",
            "_model_name": "DescriptionStyleModel",
            "_view_count": null,
            "_view_module": "@jupyter-widgets/base",
            "_view_module_version": "1.2.0",
            "_view_name": "StyleView",
            "description_width": ""
          }
        },
        "b3653af86311493c908235fa7336702e": {
          "model_module": "@jupyter-widgets/base",
          "model_name": "LayoutModel",
          "model_module_version": "1.2.0",
          "state": {
            "_model_module": "@jupyter-widgets/base",
            "_model_module_version": "1.2.0",
            "_model_name": "LayoutModel",
            "_view_count": null,
            "_view_module": "@jupyter-widgets/base",
            "_view_module_version": "1.2.0",
            "_view_name": "LayoutView",
            "align_content": null,
            "align_items": null,
            "align_self": null,
            "border": null,
            "bottom": null,
            "display": null,
            "flex": "2",
            "flex_flow": null,
            "grid_area": null,
            "grid_auto_columns": null,
            "grid_auto_flow": null,
            "grid_auto_rows": null,
            "grid_column": null,
            "grid_gap": null,
            "grid_row": null,
            "grid_template_areas": null,
            "grid_template_columns": null,
            "grid_template_rows": null,
            "height": null,
            "justify_content": null,
            "justify_items": null,
            "left": null,
            "margin": null,
            "max_height": null,
            "max_width": null,
            "min_height": null,
            "min_width": null,
            "object_fit": null,
            "object_position": null,
            "order": null,
            "overflow": null,
            "overflow_x": null,
            "overflow_y": null,
            "padding": null,
            "right": null,
            "top": null,
            "visibility": null,
            "width": null
          }
        },
        "ed421e723a894859b85469dad156bb13": {
          "model_module": "@jupyter-widgets/controls",
          "model_name": "ProgressStyleModel",
          "model_module_version": "1.5.0",
          "state": {
            "_model_module": "@jupyter-widgets/controls",
            "_model_module_version": "1.5.0",
            "_model_name": "ProgressStyleModel",
            "_view_count": null,
            "_view_module": "@jupyter-widgets/base",
            "_view_module_version": "1.2.0",
            "_view_name": "StyleView",
            "bar_color": null,
            "description_width": ""
          }
        },
        "625167eb057f4b128d0f0de1e85c87e1": {
          "model_module": "@jupyter-widgets/base",
          "model_name": "LayoutModel",
          "model_module_version": "1.2.0",
          "state": {
            "_model_module": "@jupyter-widgets/base",
            "_model_module_version": "1.2.0",
            "_model_name": "LayoutModel",
            "_view_count": null,
            "_view_module": "@jupyter-widgets/base",
            "_view_module_version": "1.2.0",
            "_view_name": "LayoutView",
            "align_content": null,
            "align_items": null,
            "align_self": null,
            "border": null,
            "bottom": null,
            "display": null,
            "flex": null,
            "flex_flow": null,
            "grid_area": null,
            "grid_auto_columns": null,
            "grid_auto_flow": null,
            "grid_auto_rows": null,
            "grid_column": null,
            "grid_gap": null,
            "grid_row": null,
            "grid_template_areas": null,
            "grid_template_columns": null,
            "grid_template_rows": null,
            "height": null,
            "justify_content": null,
            "justify_items": null,
            "left": null,
            "margin": null,
            "max_height": null,
            "max_width": null,
            "min_height": null,
            "min_width": null,
            "object_fit": null,
            "object_position": null,
            "order": null,
            "overflow": null,
            "overflow_x": null,
            "overflow_y": null,
            "padding": null,
            "right": null,
            "top": null,
            "visibility": null,
            "width": null
          }
        },
        "c174a93eca0e42d4a6578179df3a1438": {
          "model_module": "@jupyter-widgets/controls",
          "model_name": "DescriptionStyleModel",
          "model_module_version": "1.5.0",
          "state": {
            "_model_module": "@jupyter-widgets/controls",
            "_model_module_version": "1.5.0",
            "_model_name": "DescriptionStyleModel",
            "_view_count": null,
            "_view_module": "@jupyter-widgets/base",
            "_view_module_version": "1.2.0",
            "_view_name": "StyleView",
            "description_width": ""
          }
        }
      }
    }
  },
  "cells": [
    {
      "cell_type": "markdown",
      "source": [
        "#PREPARAÇÃO DO AMBIENTE"
      ],
      "metadata": {
        "id": "eVXzg2e7cfVo"
      }
    },
    {
      "cell_type": "code",
      "execution_count": null,
      "metadata": {
        "colab": {
          "base_uri": "https://localhost:8080/"
        },
        "id": "N2XI75NwK50c",
        "outputId": "be1537c5-c290-4bc4-f367-d6aff7c77ff1"
      },
      "outputs": [
        {
          "output_type": "stream",
          "name": "stdout",
          "text": [
            "Requirement already satisfied: sweetviz in /usr/local/lib/python3.10/dist-packages (2.3.1)\n",
            "Requirement already satisfied: pandas!=1.0.0,!=1.0.1,!=1.0.2,>=0.25.3 in /usr/local/lib/python3.10/dist-packages (from sweetviz) (2.2.2)\n",
            "Requirement already satisfied: numpy>=1.16.0 in /usr/local/lib/python3.10/dist-packages (from sweetviz) (1.26.4)\n",
            "Requirement already satisfied: matplotlib>=3.1.3 in /usr/local/lib/python3.10/dist-packages (from sweetviz) (3.7.1)\n",
            "Requirement already satisfied: tqdm>=4.43.0 in /usr/local/lib/python3.10/dist-packages (from sweetviz) (4.66.5)\n",
            "Requirement already satisfied: scipy>=1.3.2 in /usr/local/lib/python3.10/dist-packages (from sweetviz) (1.13.1)\n",
            "Requirement already satisfied: jinja2>=2.11.1 in /usr/local/lib/python3.10/dist-packages (from sweetviz) (3.1.4)\n",
            "Requirement already satisfied: importlib-resources>=1.2.0 in /usr/local/lib/python3.10/dist-packages (from sweetviz) (6.4.5)\n",
            "Requirement already satisfied: MarkupSafe>=2.0 in /usr/local/lib/python3.10/dist-packages (from jinja2>=2.11.1->sweetviz) (3.0.1)\n",
            "Requirement already satisfied: contourpy>=1.0.1 in /usr/local/lib/python3.10/dist-packages (from matplotlib>=3.1.3->sweetviz) (1.3.0)\n",
            "Requirement already satisfied: cycler>=0.10 in /usr/local/lib/python3.10/dist-packages (from matplotlib>=3.1.3->sweetviz) (0.12.1)\n",
            "Requirement already satisfied: fonttools>=4.22.0 in /usr/local/lib/python3.10/dist-packages (from matplotlib>=3.1.3->sweetviz) (4.54.1)\n",
            "Requirement already satisfied: kiwisolver>=1.0.1 in /usr/local/lib/python3.10/dist-packages (from matplotlib>=3.1.3->sweetviz) (1.4.7)\n",
            "Requirement already satisfied: packaging>=20.0 in /usr/local/lib/python3.10/dist-packages (from matplotlib>=3.1.3->sweetviz) (24.1)\n",
            "Requirement already satisfied: pillow>=6.2.0 in /usr/local/lib/python3.10/dist-packages (from matplotlib>=3.1.3->sweetviz) (10.4.0)\n",
            "Requirement already satisfied: pyparsing>=2.3.1 in /usr/local/lib/python3.10/dist-packages (from matplotlib>=3.1.3->sweetviz) (3.1.4)\n",
            "Requirement already satisfied: python-dateutil>=2.7 in /usr/local/lib/python3.10/dist-packages (from matplotlib>=3.1.3->sweetviz) (2.8.2)\n",
            "Requirement already satisfied: pytz>=2020.1 in /usr/local/lib/python3.10/dist-packages (from pandas!=1.0.0,!=1.0.1,!=1.0.2,>=0.25.3->sweetviz) (2024.2)\n",
            "Requirement already satisfied: tzdata>=2022.7 in /usr/local/lib/python3.10/dist-packages (from pandas!=1.0.0,!=1.0.1,!=1.0.2,>=0.25.3->sweetviz) (2024.2)\n",
            "Requirement already satisfied: six>=1.5 in /usr/local/lib/python3.10/dist-packages (from python-dateutil>=2.7->matplotlib>=3.1.3->sweetviz) (1.16.0)\n",
            "Requirement already satisfied: plotly in /usr/local/lib/python3.10/dist-packages (5.24.1)\n",
            "Requirement already satisfied: tenacity>=6.2.0 in /usr/local/lib/python3.10/dist-packages (from plotly) (9.0.0)\n",
            "Requirement already satisfied: packaging in /usr/local/lib/python3.10/dist-packages (from plotly) (24.1)\n"
          ]
        }
      ],
      "source": [
        "import pandas as pd\n",
        "import numpy as np\n",
        "from matplotlib import pyplot as plt\n",
        "import sweetviz as sv\n",
        "!pip install sweetviz\n",
        "!pip install plotly\n"
      ]
    },
    {
      "cell_type": "code",
      "source": [
        "# Configurações de exibição para melhorar a visualização\n",
        "pd.set_option('display.max_rows', 1000)  # Exibir 1000 linhas do total\n",
        "pd.set_option('display.max_columns', None)  # Exibir todas as colunas\n",
        "pd.set_option('display.expand_frame_repr', False)  # Não expandir o DataFrame em linhas longas\n",
        "pd.set_option('display.float_format', '{:.2f}'.format)  # Formatação de números flutuantes"
      ],
      "metadata": {
        "id": "KPi8dnHnsiwm"
      },
      "execution_count": null,
      "outputs": []
    },
    {
      "cell_type": "markdown",
      "source": [
        "#CARREGANDO O DATASET ORIGINAL"
      ],
      "metadata": {
        "id": "CG3SCo9ucpK0"
      }
    },
    {
      "cell_type": "code",
      "source": [
        "test = pd.read_csv('/content/test.csv')\n",
        "train = pd.read_csv('/content/train.csv')"
      ],
      "metadata": {
        "id": "Mv8H-0N3LSCZ"
      },
      "execution_count": null,
      "outputs": []
    },
    {
      "cell_type": "markdown",
      "source": [
        "##Verificação gráfica dos dados originais"
      ],
      "metadata": {
        "id": "L0hvE9Qhc12A"
      }
    },
    {
      "cell_type": "code",
      "source": [
        "# Relatório teste\n",
        "relatorio = sv.analyze(test)\n",
        "\n",
        "# Salvar o relatório em um arquivo HTML\n",
        "relatorio.show_html('teste_original.html')"
      ],
      "metadata": {
        "colab": {
          "base_uri": "https://localhost:8080/",
          "referenced_widgets": [
            "8c22a96c3fb5400c8001055872288e15",
            "ca5389690fc340eb91e4c2976b97cd58",
            "c46f0ca959b3420ba7f97f8094b4c4b2",
            "6c03bec91f6b42dfa1d1d6e9d312d3e9",
            "bc18a39a62ba460a86ad8147e15eee79",
            "7a9b120aa6b4467b9a40564aad5330d3",
            "4020923b6267476f9bb311f93e304e7c",
            "8f4a3f72d7d94a9ab99266098e3ac933",
            "61e3bbd4ee2043c0a1f2d5c78aed0262",
            "7346877993fa4852a695c1ff11831011",
            "fe797ec76973420a9baa761f8fcead37"
          ]
        },
        "id": "WXqBOwc3NStV",
        "outputId": "5b7e3309-a52a-418d-e239-48e1a7209363"
      },
      "execution_count": null,
      "outputs": [
        {
          "output_type": "display_data",
          "data": {
            "text/plain": [
              "                                             |          | [  0%]   00:00 -> (? left)"
            ],
            "application/vnd.jupyter.widget-view+json": {
              "version_major": 2,
              "version_minor": 0,
              "model_id": "8c22a96c3fb5400c8001055872288e15"
            }
          },
          "metadata": {}
        },
        {
          "output_type": "stream",
          "name": "stdout",
          "text": [
            "Report teste_original.html was generated! NOTEBOOK/COLAB USERS: the web browser MAY not pop up, regardless, the report IS saved in your notebook/colab files.\n"
          ]
        }
      ]
    },
    {
      "cell_type": "code",
      "source": [
        "# Relatório treino\n",
        "relatorio = sv.analyze(train)\n",
        "\n",
        "# Salvar o relatório em um arquivo HTML\n",
        "relatorio.show_html('train_original.html')"
      ],
      "metadata": {
        "colab": {
          "base_uri": "https://localhost:8080/",
          "referenced_widgets": [
            "8bdf68e6823f4442859623375329075f",
            "f4a4c53300b34fcc9fc0b3554b024f62",
            "0ff2197c2d9a43688e905c8631707cab",
            "c6f8a4f6eb234764b9e8cc58ce7c3bdf",
            "d525b53faecd434b9d8e53eb83828bfc",
            "d91e5da7b2db497fa40690f3cd43a450",
            "16b3d71f01e1486485179af56bf8abb1",
            "aff3e35c2c0d4e439e76d5202a05740c",
            "fa85c5784b1645dcb9bf058ffb9706c2",
            "344ddba7b10246ce968bd415dca195b1",
            "e18407b1a6b5442fb633e8469eaeb3c2"
          ]
        },
        "id": "5qE3uPc7NevR",
        "outputId": "789d3d4c-1b84-4474-b36f-32f2128dd409"
      },
      "execution_count": null,
      "outputs": [
        {
          "output_type": "display_data",
          "data": {
            "text/plain": [
              "                                             |          | [  0%]   00:00 -> (? left)"
            ],
            "application/vnd.jupyter.widget-view+json": {
              "version_major": 2,
              "version_minor": 0,
              "model_id": "8bdf68e6823f4442859623375329075f"
            }
          },
          "metadata": {}
        },
        {
          "output_type": "stream",
          "name": "stdout",
          "text": [
            "Report train_original.html was generated! NOTEBOOK/COLAB USERS: the web browser MAY not pop up, regardless, the report IS saved in your notebook/colab files.\n"
          ]
        }
      ]
    },
    {
      "cell_type": "markdown",
      "source": [
        "#AJUSTANDO O DATASET"
      ],
      "metadata": {
        "id": "VPp-GTJzdJ6M"
      }
    },
    {
      "cell_type": "markdown",
      "source": [
        "##Analisando a proporção TREINO X TESTE atual"
      ],
      "metadata": {
        "id": "JzN02MYLgzxo"
      }
    },
    {
      "cell_type": "code",
      "source": [
        "total = train.shape[0] + test.shape[0]\n",
        "\n",
        "print(f'Proporção treino x teste: {(train.shape[0]*100/total):.2f}% X {(test.shape[0]*100/total):.2f}%')\n",
        "total"
      ],
      "metadata": {
        "colab": {
          "base_uri": "https://localhost:8080/"
        },
        "id": "_6YkndSgdlQX",
        "outputId": "69ce9bc1-bc02-4084-92de-b3db925a341a"
      },
      "execution_count": null,
      "outputs": [
        {
          "output_type": "stream",
          "name": "stdout",
          "text": [
            "Proporção treino x teste: 93.40% X 6.60%\n"
          ]
        },
        {
          "output_type": "execute_result",
          "data": {
            "text/plain": [
              "162784"
            ]
          },
          "metadata": {},
          "execution_count": 96
        }
      ]
    },
    {
      "cell_type": "markdown",
      "source": [
        "##Criando um dataset concatenado\n",
        "\n",
        "Observamos a presença de dados ausentes nos dois datasets originais (train e test). Será mais prático tratar esses dados em um arquivo só, por isso realizaremos uma concatenação dos datasets originais.\n",
        "\n",
        "Isso também nos possibilitará escolhermos a proporção entre treino x teste para criação de futuros datasets que treinarão o modelo."
      ],
      "metadata": {
        "id": "KHCGeeM5k1UR"
      }
    },
    {
      "cell_type": "markdown",
      "source": [
        "**Concatenando os datasets originais**"
      ],
      "metadata": {
        "id": "IXI97OZKl192"
      }
    },
    {
      "cell_type": "code",
      "source": [
        "#CONCATENAR\n",
        "import pandas as pd\n",
        "from sklearn.model_selection import train_test_split\n",
        "\n",
        "# Concatenando os datasets\n",
        "dataset_concat = pd.concat([train, test], ignore_index=True)"
      ],
      "metadata": {
        "id": "Vp1MaWxRHdZt"
      },
      "execution_count": null,
      "outputs": []
    },
    {
      "cell_type": "markdown",
      "source": [
        "**Informações do Dataset**"
      ],
      "metadata": {
        "id": "-IKIMWCn-oEp"
      }
    },
    {
      "cell_type": "code",
      "source": [
        "# Verificando as dimensões do novo dataset\n",
        "print(f\"\\nFormato do dataset: {dataset_concat.shape}\")"
      ],
      "metadata": {
        "colab": {
          "base_uri": "https://localhost:8080/"
        },
        "id": "r9fGok5WyOL3",
        "outputId": "adb11276-e32c-4a7f-fbe5-ed67688b2fe3"
      },
      "execution_count": null,
      "outputs": [
        {
          "output_type": "stream",
          "name": "stdout",
          "text": [
            "\n",
            "Formato do dataset: (162784, 62)\n"
          ]
        }
      ]
    },
    {
      "cell_type": "code",
      "source": [
        "# Verificar os tipos de dados de cada coluna\n",
        "tipos_dados = dataset_concat.dtypes\n",
        "print(\"\\nTipos de dados das colunas:\")\n",
        "print(tipos_dados)"
      ],
      "metadata": {
        "colab": {
          "base_uri": "https://localhost:8080/"
        },
        "id": "ax4EcZV_wYZ2",
        "outputId": "fda3dc6c-7221-49c3-c33d-ac61984a2138"
      },
      "execution_count": null,
      "outputs": [
        {
          "output_type": "stream",
          "name": "stdout",
          "text": [
            "\n",
            "Tipos de dados das colunas:\n",
            "x0     float64\n",
            "x1     float64\n",
            "x2     float64\n",
            "x3     float64\n",
            "x4     float64\n",
            "x5     float64\n",
            "x6     float64\n",
            "x7     float64\n",
            "x8     float64\n",
            "x9     float64\n",
            "x10    float64\n",
            "x11    float64\n",
            "x12    float64\n",
            "x13    float64\n",
            "x14    float64\n",
            "x15    float64\n",
            "x16    float64\n",
            "x17    float64\n",
            "x18    float64\n",
            "x19    float64\n",
            "x20    float64\n",
            "x21    float64\n",
            "x22    float64\n",
            "x23    float64\n",
            "x24    float64\n",
            "x25    float64\n",
            "x26    float64\n",
            "x27    float64\n",
            "x28    float64\n",
            "x29    float64\n",
            "x30    float64\n",
            "x31    float64\n",
            "x32    float64\n",
            "x33    float64\n",
            "x34    float64\n",
            "x35    float64\n",
            "x36    float64\n",
            "x37    float64\n",
            "x38    float64\n",
            "x39    float64\n",
            "x40    float64\n",
            "x41    float64\n",
            "x42    float64\n",
            "x43    float64\n",
            "x44    float64\n",
            "x45    float64\n",
            "x46    float64\n",
            "x47    float64\n",
            "x48    float64\n",
            "x49    float64\n",
            "x50    float64\n",
            "x51    float64\n",
            "x52    float64\n",
            "x53    float64\n",
            "x54    float64\n",
            "x55    float64\n",
            "x56    float64\n",
            "x57    float64\n",
            "x58    float64\n",
            "x59    float64\n",
            "x60    float64\n",
            "y        int64\n",
            "dtype: object\n"
          ]
        }
      ]
    },
    {
      "cell_type": "markdown",
      "source": [
        "**Obtendo um relatório prévio do dataset concatenado**"
      ],
      "metadata": {
        "id": "CQ8MMBhKuwW8"
      }
    },
    {
      "cell_type": "code",
      "source": [
        "# Relatório dataset concatenado\n",
        "relatorio = sv.analyze(dataset_concat)\n",
        "\n",
        "# Salvar o relatório em um arquivo HTML\n",
        "relatorio.show_html('dataset_concat_original.html')"
      ],
      "metadata": {
        "colab": {
          "base_uri": "https://localhost:8080/",
          "height": 86,
          "referenced_widgets": [
            "70f80cdec35348329fc7bcdbc435ad1e",
            "3219b4e8abde4850a5daebb88b735165",
            "62809796743c4f81bcb628c240d4f630",
            "beb2a94b701942f1a8bfc16276d71741",
            "b6d3c64f2ccf44d4ad3076d5f743ebe0",
            "ae1d5b66d82843e0b311ac1f0c1a40eb",
            "91418988acc24005bf61db73e2446fab",
            "b3653af86311493c908235fa7336702e",
            "ed421e723a894859b85469dad156bb13",
            "625167eb057f4b128d0f0de1e85c87e1",
            "c174a93eca0e42d4a6578179df3a1438"
          ]
        },
        "id": "-CHcwVIIuv8N",
        "outputId": "d4bd9a46-777a-4cb2-de4b-90480997aa63"
      },
      "execution_count": null,
      "outputs": [
        {
          "output_type": "display_data",
          "data": {
            "text/plain": [
              "                                             |          | [  0%]   00:00 -> (? left)"
            ],
            "application/vnd.jupyter.widget-view+json": {
              "version_major": 2,
              "version_minor": 0,
              "model_id": "70f80cdec35348329fc7bcdbc435ad1e"
            }
          },
          "metadata": {}
        },
        {
          "output_type": "stream",
          "name": "stdout",
          "text": [
            "Report dataset_concat_original.html was generated! NOTEBOOK/COLAB USERS: the web browser MAY not pop up, regardless, the report IS saved in your notebook/colab files.\n"
          ]
        }
      ]
    },
    {
      "cell_type": "markdown",
      "source": [
        "**Exportando o dataset concatenado (ainda sem qualquer modificação)**\n",
        "\n",
        "Objetivo: Criar uma versão do dataset concatenado, sem qualquer modificação. Ele poderá ser utilizado como ponto de partida futuro para construção de diferentes DF's que treinarão os modelos"
      ],
      "metadata": {
        "id": "VSPrSNyPhdYw"
      }
    },
    {
      "cell_type": "code",
      "source": [
        "dataset_concat.to_csv('dataset_concat_original.csv', index=False)"
      ],
      "metadata": {
        "id": "N2WupYcNiEW6"
      },
      "execution_count": null,
      "outputs": []
    },
    {
      "cell_type": "markdown",
      "source": [
        "##Tratando dados nulos"
      ],
      "metadata": {
        "id": "ElaJVDsZ-XH3"
      }
    },
    {
      "cell_type": "markdown",
      "source": [
        "**Nulos por coluna**"
      ],
      "metadata": {
        "id": "Si9voPCqea4N"
      }
    },
    {
      "cell_type": "code",
      "source": [
        "# Exibir a quantidade de valores nulos por coluna\n",
        "quantidade_nulos = dataset_concat.isnull().sum()\n",
        "print(\"\\nQuantidade de valores nulos por coluna:\")\n",
        "print(quantidade_nulos)"
      ],
      "metadata": {
        "colab": {
          "base_uri": "https://localhost:8080/"
        },
        "id": "d9Q8saI9ytZC",
        "outputId": "7e48bdfe-7b9a-4eb8-870a-961ac7f1ade1"
      },
      "execution_count": null,
      "outputs": [
        {
          "output_type": "stream",
          "name": "stdout",
          "text": [
            "\n",
            "Quantidade de valores nulos por coluna:\n",
            "x0        760\n",
            "x1          1\n",
            "x2          1\n",
            "x3      84629\n",
            "x4          1\n",
            "x5          1\n",
            "x6       6481\n",
            "x7          1\n",
            "x8       2287\n",
            "x9       4505\n",
            "x10       103\n",
            "x11     84629\n",
            "x12       760\n",
            "x13       103\n",
            "x14         1\n",
            "x15      3199\n",
            "x16     84629\n",
            "x17         1\n",
            "x18      5633\n",
            "x19       760\n",
            "x20       167\n",
            "x21         1\n",
            "x22         1\n",
            "x23       167\n",
            "x24         1\n",
            "x25      3248\n",
            "x26         1\n",
            "x27       167\n",
            "x28      5633\n",
            "x29         1\n",
            "x30         1\n",
            "x31       141\n",
            "x32     49389\n",
            "x33     60032\n",
            "x34         1\n",
            "x35       760\n",
            "x36      2003\n",
            "x37       760\n",
            "x38         1\n",
            "x39     63603\n",
            "x40         1\n",
            "x41       103\n",
            "x42       167\n",
            "x43      3248\n",
            "x44       760\n",
            "x45     84629\n",
            "x46         1\n",
            "x47      6481\n",
            "x48         1\n",
            "x49         1\n",
            "x50       760\n",
            "x51     44917\n",
            "x52       760\n",
            "x53         1\n",
            "x54     60032\n",
            "x55       760\n",
            "x56    114737\n",
            "x57       103\n",
            "x58         1\n",
            "x59     44917\n",
            "x60       760\n",
            "y           0\n",
            "dtype: int64\n"
          ]
        }
      ]
    },
    {
      "cell_type": "markdown",
      "source": [
        "**Excluindo colunas com grande ausencia de dados (acima de 40%)**\n",
        "\n",
        "Aqui poderemos mudar a faixa de corte, de acordo com os resultados obtidos nos modelos treinados.\n",
        "\n",
        "As colunas 'x3', 'x11', 'x16', 'x33', 'x39', 'x45', 'x54', 'x56' serão excluidas."
      ],
      "metadata": {
        "id": "Q9Iuz47O_a3n"
      }
    },
    {
      "cell_type": "code",
      "source": [
        "#EXCLUIR COLUNAS COM FALTANTES ACIMA DE 40%\n",
        "\n",
        "colunas_excluir = ['x3', 'x11', 'x16', 'x33', 'x39', 'x45', 'x54', 'x56']\n",
        "\n",
        "dataset_concat_v1 = dataset_concat.drop(colunas_excluir, axis=1)\n"
      ],
      "metadata": {
        "id": "xuzs8p5d_QmT"
      },
      "execution_count": null,
      "outputs": []
    },
    {
      "cell_type": "markdown",
      "source": [
        "**Verificando a presença de duplicados**\n"
      ],
      "metadata": {
        "id": "_7v-HhyMRIxk"
      }
    },
    {
      "cell_type": "code",
      "source": [
        "#VERIFICANDO A PRESENÇA DE DUPLICADOS\n",
        "print(dataset_concat_v1.duplicated().sum())"
      ],
      "metadata": {
        "colab": {
          "base_uri": "https://localhost:8080/"
        },
        "id": "LbbEp7S4RIab",
        "outputId": "1170f9f9-034e-4246-f2a3-39cfff091dff"
      },
      "execution_count": null,
      "outputs": [
        {
          "output_type": "stream",
          "name": "stdout",
          "text": [
            "0\n"
          ]
        }
      ]
    },
    {
      "cell_type": "markdown",
      "source": [
        "##Tratando o restante dos dados nulos\n",
        "\n",
        "Aqui utilizaremos duas técnicas diferentes para tratar os dados ausentes:\n",
        "\n",
        "1- Substituir pela média as colunas com distribuição normal e com a mediana as assimétricas.\n",
        "\n",
        "\n",
        "2- Utilizar amostragem baseada na distribuição da coluna para preencher os valores nulos, tanto para distribuição normal quanto para assimétrica.\n",
        "\n",
        "\n",
        "Aqui poderemos gerar datasets diferentes e verificar o desempenho do modelo treinado por cada um deles."
      ],
      "metadata": {
        "id": "Wt2JDtWoaZ9m"
      }
    },
    {
      "cell_type": "markdown",
      "source": [
        "### Substituir pela média e mediana"
      ],
      "metadata": {
        "id": "dxr9Tcd5czig"
      }
    },
    {
      "cell_type": "code",
      "source": [
        "from scipy.stats import shapiro\n",
        "\n",
        "# Função para preencher dados nulos de acordo com a distribuição da coluna\n",
        "def preencher_nulos_por_distribuicao(df):\n",
        "    # Loop sobre as colunas do dataset\n",
        "    for coluna in df.columns:\n",
        "        if df[coluna].isnull().sum() > 0:  # Apenas tratar colunas com dados nulos\n",
        "            print(f\"\\nAnalisando coluna: {coluna}\")\n",
        "\n",
        "            # Verificar se a coluna é numérica\n",
        "            if pd.api.types.is_numeric_dtype(df[coluna]):\n",
        "\n",
        "                # Realizar o teste de normalidade de Shapiro-Wilk\n",
        "                stat, p = shapiro(df[coluna].dropna())  # Teste com dados não nulos\n",
        "                print(f'Estatística de Shapiro-Wilk: {stat}, p-valor: {p}')\n",
        "\n",
        "                # Se p-valor > 0.05, assume normalidade (pode ajustar esse valor se necessário)\n",
        "                if p > 0.05:\n",
        "                    # Preencher com a média\n",
        "                    mean_value = df[coluna].mean()\n",
        "                    df[coluna].fillna(mean_value, inplace=True)\n",
        "                    print(f'Preenchendo nulos de {coluna} com a média: {mean_value}')\n",
        "                else:\n",
        "                    # Preencher com a mediana\n",
        "                    median_value = df[coluna].median()\n",
        "                    df[coluna].fillna(median_value, inplace=True)\n",
        "                    print(f'Preenchendo nulos de {coluna} com a mediana: {median_value}')\n",
        "            else:\n",
        "                print(f\"A coluna {coluna} não é numérica e será ignorada.\")\n",
        "\n",
        "    return df\n",
        "\n",
        "#teste\n",
        "dataset_concat_v1 = preencher_nulos_por_distribuicao(dataset_concat_v1)"
      ],
      "metadata": {
        "id": "yGAIiTdJaWT4"
      },
      "execution_count": null,
      "outputs": []
    },
    {
      "cell_type": "markdown",
      "source": [
        "###Substituir por amostragem baseada na distribuição da coluna"
      ],
      "metadata": {
        "id": "l5Cnjww2c7rg"
      }
    },
    {
      "cell_type": "code",
      "source": [
        "from scipy.stats import shapiro\n",
        "\n",
        "# Função para preencher dados nulos com base na amostragem da distribuição da coluna\n",
        "def preencher_nulos_por_amostragem(df):\n",
        "    # Loop sobre as colunas do dataset\n",
        "    for coluna in df.columns:\n",
        "        if df[coluna].isnull().sum() > 0:  # Apenas tratar colunas com dados nulos\n",
        "            print(f\"\\nAnalisando coluna: {coluna}\")\n",
        "\n",
        "            # Verificar se a coluna é numérica\n",
        "            if pd.api.types.is_numeric_dtype(df[coluna]):\n",
        "\n",
        "                # Realizar o teste de normalidade de Shapiro-Wilk\n",
        "                stat, p = shapiro(df[coluna].dropna())  # Teste com dados não nulos\n",
        "                print(f'Estatística de Shapiro-Wilk: {stat}, p-valor: {p}')\n",
        "\n",
        "                # Se p-valor > 0.05, assume normalidade (pode ajustar esse valor se necessário)\n",
        "                if p > 0.05:\n",
        "                    # Preencher por amostragem de uma distribuição normal com a mesma média e desvio padrão\n",
        "                    mean_value = df[coluna].mean()\n",
        "                    std_dev = df[coluna].std()\n",
        "                    # Amostrar valores de uma distribuição normal\n",
        "                    n_nulos = df[coluna].isnull().sum()\n",
        "                    df[coluna].fillna(pd.Series(np.random.normal(mean_value, std_dev, n_nulos)), inplace=True)\n",
        "                    print(f'Preenchendo nulos de {coluna} por amostragem normal com média: {mean_value} e desvio: {std_dev}')\n",
        "                else:\n",
        "                    # Preencher com amostragem da distribuição existente\n",
        "                    n_nulos = df[coluna].isnull().sum()\n",
        "                    df[coluna].fillna(pd.Series(np.random.choice(df[coluna].dropna(), size=n_nulos)), inplace=True)\n",
        "                    print(f'Preenchendo nulos de {coluna} com base na amostragem da própria coluna')\n",
        "            else:\n",
        "                print(f\"A coluna {coluna} não é numérica e será ignorada.\")\n",
        "\n",
        "    return df\n",
        "\n",
        "#teste\n",
        "dataset_concat_v1 = preencher_nulos_por_amostragem(dataset_concat_v1)"
      ],
      "metadata": {
        "id": "UBnEhep5dBaU"
      },
      "execution_count": null,
      "outputs": []
    },
    {
      "cell_type": "markdown",
      "source": [
        "#OUTLIERS"
      ],
      "metadata": {
        "id": "qVTYq0WQa-Kh"
      }
    },
    {
      "cell_type": "code",
      "source": [],
      "metadata": {
        "id": "nNIpwP16fB1g"
      },
      "execution_count": null,
      "outputs": []
    },
    {
      "cell_type": "markdown",
      "source": [
        "# PCA"
      ],
      "metadata": {
        "id": "lM_5qo6G-Mbl"
      }
    },
    {
      "cell_type": "markdown",
      "source": [
        "##Verificando a importância das variáveis para a saída utilizando correlação"
      ],
      "metadata": {
        "id": "JiP74SdTRZRO"
      }
    },
    {
      "cell_type": "markdown",
      "source": [
        "**Importando a correlação entre as variáveis e a saída**\n",
        "\n",
        "criando uma série com as correlações e ordenando em ordem de importância.\n"
      ],
      "metadata": {
        "id": "V5FB_8BgRoXJ"
      }
    },
    {
      "cell_type": "code",
      "source": [
        "correlacao = dataset_concat.corr(method='pearson')\n",
        "\n",
        "\n",
        "# Importância de 'y' com todas as variáveis, exceto 'y'(produziria 1)\n",
        "correlacao_target = correlacao['y'].drop('y')\n",
        "\n",
        "# Ordenar em ordem decrescente de importância\n",
        "variaveis_importantes = correlacao_target.abs().sort_values(ascending=False)\n",
        "\n",
        "# Exibir todas as variáveis em sequência de importância (decrescente)\n",
        "print(f'Variáveis ordenadas por importância em relação à saída: \\n{variaveis_importantes}')"
      ],
      "metadata": {
        "colab": {
          "base_uri": "https://localhost:8080/"
        },
        "id": "lq3EtYTkmclW",
        "outputId": "7ebcc7d6-9907-452d-942a-69368a87aef4"
      },
      "execution_count": null,
      "outputs": [
        {
          "output_type": "stream",
          "name": "stdout",
          "text": [
            "Variáveis ordenadas por importância em relação à saída: \n",
            "x0    0.25\n",
            "x19   0.20\n",
            "x18   0.19\n",
            "x8    0.17\n",
            "x21   0.15\n",
            "x4    0.13\n",
            "x36   0.12\n",
            "x17   0.12\n",
            "x10   0.10\n",
            "x41   0.10\n",
            "x3    0.09\n",
            "x60   0.08\n",
            "x13   0.08\n",
            "x43   0.07\n",
            "x30   0.07\n",
            "x2    0.07\n",
            "x42   0.07\n",
            "x14   0.07\n",
            "x37   0.06\n",
            "x45   0.06\n",
            "x55   0.06\n",
            "x53   0.05\n",
            "x25   0.05\n",
            "x31   0.05\n",
            "x12   0.05\n",
            "x28   0.05\n",
            "x27   0.05\n",
            "x16   0.05\n",
            "x24   0.04\n",
            "x9    0.03\n",
            "x50   0.03\n",
            "x46   0.03\n",
            "x47   0.03\n",
            "x58   0.03\n",
            "x38   0.03\n",
            "x33   0.03\n",
            "x40   0.03\n",
            "x5    0.03\n",
            "x51   0.03\n",
            "x15   0.02\n",
            "x32   0.02\n",
            "x49   0.02\n",
            "x34   0.02\n",
            "x7    0.01\n",
            "x1    0.01\n",
            "x23   0.01\n",
            "x52   0.01\n",
            "x57   0.01\n",
            "x11   0.01\n",
            "x54   0.01\n",
            "x22   0.01\n",
            "x44   0.01\n",
            "x20   0.00\n",
            "x6    0.00\n",
            "x59   0.00\n",
            "x56   0.00\n",
            "x29   0.00\n",
            "x39   0.00\n",
            "x26   0.00\n",
            "x35   0.00\n",
            "x48   0.00\n",
            "Name: y, dtype: float64\n"
          ]
        }
      ]
    },
    {
      "cell_type": "markdown",
      "source": [
        "**Pareto de importância das variáveis**\n",
        "\n",
        "Mostrando o quanto as variáveis são significantes para o modelo.\n",
        "\n",
        "Podemos observar que as 32 primeiras variáveis representam 80% da importância, enquanto o restante das variáveis (29), tem menos de 20% do total de importância.\n",
        "\n",
        "Considerando um bom número em 95%, podemos concluir que pelo menos 13 variáveis são de menor importância, representando juntas menos de 5%.\n",
        "\n",
        "Tal observação tem o objetivo não de excluir essas variáveis, mas de justificar a possibilidade de aplicar uma redução de dimensionalidade com PCA."
      ],
      "metadata": {
        "id": "0p36nD8d1nRl"
      }
    },
    {
      "cell_type": "code",
      "source": [
        "import plotly.graph_objects as go\n",
        "\n",
        "# Gráfico de barras com Plotly para as variáveis\n",
        "fig = go.Figure()\n",
        "\n",
        "# Adicionar as barras\n",
        "fig.add_trace(go.Bar(\n",
        "    x=variaveis_importantes.index,\n",
        "    y=variaveis_importantes,\n",
        "    name='Importância (Correlação)',\n",
        "    marker_color='blue'\n",
        "))\n",
        "\n",
        "# Adicionar a linha cumulativa\n",
        "fig.add_trace(go.Scatter(\n",
        "    x=variaveis_importantes.index,\n",
        "    y=soma_cumulativa,\n",
        "    name='Importância Cumulativa (%)',\n",
        "    mode='lines+markers',\n",
        "    line=dict(color='orange', dash='dot')\n",
        "))\n",
        "\n",
        "# Ajustar layout do gráfico\n",
        "fig.update_layout(\n",
        "    title='Gráfico de Pareto da Importância das Variáveis',\n",
        "    xaxis_title='Variáveis',\n",
        "    yaxis_title='Importância (Correlação)',\n",
        "    yaxis2=dict(\n",
        "        title='Importância Cumulativa (%)',\n",
        "        overlaying='y',\n",
        "        side='right'\n",
        "    ),\n",
        "    legend=dict(x=0.1, y=1.1, orientation=\"h\"),\n",
        "    hovermode=\"x\"\n",
        ")\n",
        "\n",
        "# Exibir o gráfico interativo\n",
        "fig.show()"
      ],
      "metadata": {
        "colab": {
          "base_uri": "https://localhost:8080/",
          "height": 542
        },
        "id": "bCLMTf2S1muW",
        "outputId": "7632f74a-e637-48aa-dab1-f63a9667e1a9"
      },
      "execution_count": null,
      "outputs": [
        {
          "output_type": "display_data",
          "data": {
            "text/html": [
              "<html>\n",
              "<head><meta charset=\"utf-8\" /></head>\n",
              "<body>\n",
              "    <div>            <script src=\"https://cdnjs.cloudflare.com/ajax/libs/mathjax/2.7.5/MathJax.js?config=TeX-AMS-MML_SVG\"></script><script type=\"text/javascript\">if (window.MathJax && window.MathJax.Hub && window.MathJax.Hub.Config) {window.MathJax.Hub.Config({SVG: {font: \"STIX-Web\"}});}</script>                <script type=\"text/javascript\">window.PlotlyConfig = {MathJaxConfig: 'local'};</script>\n",
              "        <script charset=\"utf-8\" src=\"https://cdn.plot.ly/plotly-2.35.2.min.js\"></script>                <div id=\"48b26a7b-b31f-41b4-8be4-beb9f89c1906\" class=\"plotly-graph-div\" style=\"height:525px; width:100%;\"></div>            <script type=\"text/javascript\">                                    window.PLOTLYENV=window.PLOTLYENV || {};                                    if (document.getElementById(\"48b26a7b-b31f-41b4-8be4-beb9f89c1906\")) {                    Plotly.newPlot(                        \"48b26a7b-b31f-41b4-8be4-beb9f89c1906\",                        [{\"marker\":{\"color\":\"blue\"},\"name\":\"Import\\u00e2ncia (Correla\\u00e7\\u00e3o)\",\"x\":[\"x0\",\"x19\",\"x18\",\"x8\",\"x21\",\"x4\",\"x36\",\"x17\",\"x10\",\"x41\",\"x3\",\"x60\",\"x13\",\"x43\",\"x30\",\"x2\",\"x42\",\"x14\",\"x37\",\"x45\",\"x55\",\"x53\",\"x25\",\"x31\",\"x12\",\"x28\",\"x27\",\"x16\",\"x24\",\"x9\",\"x50\",\"x46\",\"x47\",\"x58\",\"x38\",\"x33\",\"x40\",\"x5\",\"x51\",\"x15\",\"x32\",\"x49\",\"x34\",\"x7\",\"x1\",\"x23\",\"x52\",\"x57\",\"x11\",\"x54\",\"x22\",\"x44\",\"x20\",\"x6\",\"x59\",\"x56\",\"x29\",\"x39\",\"x26\",\"x35\",\"x48\"],\"y\":[0.24683943384659637,0.20065585268648384,0.19452150613613697,0.1732464697054665,0.1477957823923185,0.13036516363488157,0.12150095956960066,0.12096598218822643,0.10436061201176682,0.096081491695867,0.09240454871991022,0.07681489856620405,0.07582880872159062,0.0715342755133926,0.07138537293507816,0.06956207836248476,0.06917130781170543,0.06850207037155345,0.06351862296767034,0.062272485149830956,0.06091147534112431,0.05483617749141125,0.05464210590435853,0.05124580165265754,0.05035682264782857,0.048468706100936815,0.046824606834865064,0.04569602062846134,0.036371661874085165,0.03154424064150695,0.031215136333029653,0.030924543799285924,0.030781000162818418,0.03030803351555268,0.02757513903785387,0.027308545806560107,0.026824434264747156,0.026402086887109977,0.02574678597611029,0.02223711918579948,0.021279629519675436,0.018848458462612346,0.018232016321951962,0.01282518840240868,0.012212036372563479,0.010865889364253206,0.009682959389395115,0.008968171291669663,0.007649829117014416,0.006575097079629971,0.006118758949614436,0.005821961269048769,0.003550229451113082,0.0033948064798297135,0.0033869250730266293,0.002314048435050595,0.0020712270656415123,0.0019305406901342528,0.0014113769950588422,0.00045328570466217393,7.089724277440772e-05],\"type\":\"bar\"},{\"line\":{\"color\":\"orange\",\"dash\":\"dot\"},\"mode\":\"lines+markers\",\"name\":\"Import\\u00e2ncia Cumulativa (%)\",\"x\":[\"x0\",\"x19\",\"x18\",\"x8\",\"x21\",\"x4\",\"x36\",\"x17\",\"x10\",\"x41\",\"x3\",\"x60\",\"x13\",\"x43\",\"x30\",\"x2\",\"x42\",\"x14\",\"x37\",\"x45\",\"x55\",\"x53\",\"x25\",\"x31\",\"x12\",\"x28\",\"x27\",\"x16\",\"x24\",\"x9\",\"x50\",\"x46\",\"x47\",\"x58\",\"x38\",\"x33\",\"x40\",\"x5\",\"x51\",\"x15\",\"x32\",\"x49\",\"x34\",\"x7\",\"x1\",\"x23\",\"x52\",\"x57\",\"x11\",\"x54\",\"x22\",\"x44\",\"x20\",\"x6\",\"x59\",\"x56\",\"x29\",\"x39\",\"x26\",\"x35\",\"x48\"],\"y\":[4.667517861206758,8.923347392203782,12.950378954288706,16.510490532965274,20.051704565233827,23.407166358266572,26.648448922094364,29.806587608337626,32.724862166724414,35.615643467474186,38.374490874127744,41.00208401105613,43.59077092068283,46.14371630474975,48.62922136803452,50.991535569200174,53.351518937089374,55.63247691096569,57.79228345208294,59.92833966393476,62.00080896858607,64.04028856901427,65.89015760345012,67.71645688288372,69.53069097553023,71.34416613690206,73.14153355560164,74.90430213981796,76.58473252720798,78.224649610691,79.69294415623814,80.99096625928802,82.23592820761912,83.4359265944278,84.5339949272899,85.62646892124971,86.65881679289,87.61397257743513,88.54978074527793,89.46877678229517,90.37140395222872,91.13425607135844,91.87413326180265,92.58642715481989,93.28396499094647,93.91784300373159,94.51309665583082,95.07994642339301,95.64251385299016,96.18876935314927,96.68248192618772,97.15821188784555,97.61816935671149,98.06625417599506,98.4774902963849,98.8758141807635,99.2302098808361,99.54375322784944,99.80632155466958,99.95888797948109,100.00000000000003],\"type\":\"scatter\"}],                        {\"template\":{\"data\":{\"histogram2dcontour\":[{\"type\":\"histogram2dcontour\",\"colorbar\":{\"outlinewidth\":0,\"ticks\":\"\"},\"colorscale\":[[0.0,\"#0d0887\"],[0.1111111111111111,\"#46039f\"],[0.2222222222222222,\"#7201a8\"],[0.3333333333333333,\"#9c179e\"],[0.4444444444444444,\"#bd3786\"],[0.5555555555555556,\"#d8576b\"],[0.6666666666666666,\"#ed7953\"],[0.7777777777777778,\"#fb9f3a\"],[0.8888888888888888,\"#fdca26\"],[1.0,\"#f0f921\"]]}],\"choropleth\":[{\"type\":\"choropleth\",\"colorbar\":{\"outlinewidth\":0,\"ticks\":\"\"}}],\"histogram2d\":[{\"type\":\"histogram2d\",\"colorbar\":{\"outlinewidth\":0,\"ticks\":\"\"},\"colorscale\":[[0.0,\"#0d0887\"],[0.1111111111111111,\"#46039f\"],[0.2222222222222222,\"#7201a8\"],[0.3333333333333333,\"#9c179e\"],[0.4444444444444444,\"#bd3786\"],[0.5555555555555556,\"#d8576b\"],[0.6666666666666666,\"#ed7953\"],[0.7777777777777778,\"#fb9f3a\"],[0.8888888888888888,\"#fdca26\"],[1.0,\"#f0f921\"]]}],\"heatmap\":[{\"type\":\"heatmap\",\"colorbar\":{\"outlinewidth\":0,\"ticks\":\"\"},\"colorscale\":[[0.0,\"#0d0887\"],[0.1111111111111111,\"#46039f\"],[0.2222222222222222,\"#7201a8\"],[0.3333333333333333,\"#9c179e\"],[0.4444444444444444,\"#bd3786\"],[0.5555555555555556,\"#d8576b\"],[0.6666666666666666,\"#ed7953\"],[0.7777777777777778,\"#fb9f3a\"],[0.8888888888888888,\"#fdca26\"],[1.0,\"#f0f921\"]]}],\"heatmapgl\":[{\"type\":\"heatmapgl\",\"colorbar\":{\"outlinewidth\":0,\"ticks\":\"\"},\"colorscale\":[[0.0,\"#0d0887\"],[0.1111111111111111,\"#46039f\"],[0.2222222222222222,\"#7201a8\"],[0.3333333333333333,\"#9c179e\"],[0.4444444444444444,\"#bd3786\"],[0.5555555555555556,\"#d8576b\"],[0.6666666666666666,\"#ed7953\"],[0.7777777777777778,\"#fb9f3a\"],[0.8888888888888888,\"#fdca26\"],[1.0,\"#f0f921\"]]}],\"contourcarpet\":[{\"type\":\"contourcarpet\",\"colorbar\":{\"outlinewidth\":0,\"ticks\":\"\"}}],\"contour\":[{\"type\":\"contour\",\"colorbar\":{\"outlinewidth\":0,\"ticks\":\"\"},\"colorscale\":[[0.0,\"#0d0887\"],[0.1111111111111111,\"#46039f\"],[0.2222222222222222,\"#7201a8\"],[0.3333333333333333,\"#9c179e\"],[0.4444444444444444,\"#bd3786\"],[0.5555555555555556,\"#d8576b\"],[0.6666666666666666,\"#ed7953\"],[0.7777777777777778,\"#fb9f3a\"],[0.8888888888888888,\"#fdca26\"],[1.0,\"#f0f921\"]]}],\"surface\":[{\"type\":\"surface\",\"colorbar\":{\"outlinewidth\":0,\"ticks\":\"\"},\"colorscale\":[[0.0,\"#0d0887\"],[0.1111111111111111,\"#46039f\"],[0.2222222222222222,\"#7201a8\"],[0.3333333333333333,\"#9c179e\"],[0.4444444444444444,\"#bd3786\"],[0.5555555555555556,\"#d8576b\"],[0.6666666666666666,\"#ed7953\"],[0.7777777777777778,\"#fb9f3a\"],[0.8888888888888888,\"#fdca26\"],[1.0,\"#f0f921\"]]}],\"mesh3d\":[{\"type\":\"mesh3d\",\"colorbar\":{\"outlinewidth\":0,\"ticks\":\"\"}}],\"scatter\":[{\"fillpattern\":{\"fillmode\":\"overlay\",\"size\":10,\"solidity\":0.2},\"type\":\"scatter\"}],\"parcoords\":[{\"type\":\"parcoords\",\"line\":{\"colorbar\":{\"outlinewidth\":0,\"ticks\":\"\"}}}],\"scatterpolargl\":[{\"type\":\"scatterpolargl\",\"marker\":{\"colorbar\":{\"outlinewidth\":0,\"ticks\":\"\"}}}],\"bar\":[{\"error_x\":{\"color\":\"#2a3f5f\"},\"error_y\":{\"color\":\"#2a3f5f\"},\"marker\":{\"line\":{\"color\":\"#E5ECF6\",\"width\":0.5},\"pattern\":{\"fillmode\":\"overlay\",\"size\":10,\"solidity\":0.2}},\"type\":\"bar\"}],\"scattergeo\":[{\"type\":\"scattergeo\",\"marker\":{\"colorbar\":{\"outlinewidth\":0,\"ticks\":\"\"}}}],\"scatterpolar\":[{\"type\":\"scatterpolar\",\"marker\":{\"colorbar\":{\"outlinewidth\":0,\"ticks\":\"\"}}}],\"histogram\":[{\"marker\":{\"pattern\":{\"fillmode\":\"overlay\",\"size\":10,\"solidity\":0.2}},\"type\":\"histogram\"}],\"scattergl\":[{\"type\":\"scattergl\",\"marker\":{\"colorbar\":{\"outlinewidth\":0,\"ticks\":\"\"}}}],\"scatter3d\":[{\"type\":\"scatter3d\",\"line\":{\"colorbar\":{\"outlinewidth\":0,\"ticks\":\"\"}},\"marker\":{\"colorbar\":{\"outlinewidth\":0,\"ticks\":\"\"}}}],\"scattermapbox\":[{\"type\":\"scattermapbox\",\"marker\":{\"colorbar\":{\"outlinewidth\":0,\"ticks\":\"\"}}}],\"scatterternary\":[{\"type\":\"scatterternary\",\"marker\":{\"colorbar\":{\"outlinewidth\":0,\"ticks\":\"\"}}}],\"scattercarpet\":[{\"type\":\"scattercarpet\",\"marker\":{\"colorbar\":{\"outlinewidth\":0,\"ticks\":\"\"}}}],\"carpet\":[{\"aaxis\":{\"endlinecolor\":\"#2a3f5f\",\"gridcolor\":\"white\",\"linecolor\":\"white\",\"minorgridcolor\":\"white\",\"startlinecolor\":\"#2a3f5f\"},\"baxis\":{\"endlinecolor\":\"#2a3f5f\",\"gridcolor\":\"white\",\"linecolor\":\"white\",\"minorgridcolor\":\"white\",\"startlinecolor\":\"#2a3f5f\"},\"type\":\"carpet\"}],\"table\":[{\"cells\":{\"fill\":{\"color\":\"#EBF0F8\"},\"line\":{\"color\":\"white\"}},\"header\":{\"fill\":{\"color\":\"#C8D4E3\"},\"line\":{\"color\":\"white\"}},\"type\":\"table\"}],\"barpolar\":[{\"marker\":{\"line\":{\"color\":\"#E5ECF6\",\"width\":0.5},\"pattern\":{\"fillmode\":\"overlay\",\"size\":10,\"solidity\":0.2}},\"type\":\"barpolar\"}],\"pie\":[{\"automargin\":true,\"type\":\"pie\"}]},\"layout\":{\"autotypenumbers\":\"strict\",\"colorway\":[\"#636efa\",\"#EF553B\",\"#00cc96\",\"#ab63fa\",\"#FFA15A\",\"#19d3f3\",\"#FF6692\",\"#B6E880\",\"#FF97FF\",\"#FECB52\"],\"font\":{\"color\":\"#2a3f5f\"},\"hovermode\":\"closest\",\"hoverlabel\":{\"align\":\"left\"},\"paper_bgcolor\":\"white\",\"plot_bgcolor\":\"#E5ECF6\",\"polar\":{\"bgcolor\":\"#E5ECF6\",\"angularaxis\":{\"gridcolor\":\"white\",\"linecolor\":\"white\",\"ticks\":\"\"},\"radialaxis\":{\"gridcolor\":\"white\",\"linecolor\":\"white\",\"ticks\":\"\"}},\"ternary\":{\"bgcolor\":\"#E5ECF6\",\"aaxis\":{\"gridcolor\":\"white\",\"linecolor\":\"white\",\"ticks\":\"\"},\"baxis\":{\"gridcolor\":\"white\",\"linecolor\":\"white\",\"ticks\":\"\"},\"caxis\":{\"gridcolor\":\"white\",\"linecolor\":\"white\",\"ticks\":\"\"}},\"coloraxis\":{\"colorbar\":{\"outlinewidth\":0,\"ticks\":\"\"}},\"colorscale\":{\"sequential\":[[0.0,\"#0d0887\"],[0.1111111111111111,\"#46039f\"],[0.2222222222222222,\"#7201a8\"],[0.3333333333333333,\"#9c179e\"],[0.4444444444444444,\"#bd3786\"],[0.5555555555555556,\"#d8576b\"],[0.6666666666666666,\"#ed7953\"],[0.7777777777777778,\"#fb9f3a\"],[0.8888888888888888,\"#fdca26\"],[1.0,\"#f0f921\"]],\"sequentialminus\":[[0.0,\"#0d0887\"],[0.1111111111111111,\"#46039f\"],[0.2222222222222222,\"#7201a8\"],[0.3333333333333333,\"#9c179e\"],[0.4444444444444444,\"#bd3786\"],[0.5555555555555556,\"#d8576b\"],[0.6666666666666666,\"#ed7953\"],[0.7777777777777778,\"#fb9f3a\"],[0.8888888888888888,\"#fdca26\"],[1.0,\"#f0f921\"]],\"diverging\":[[0,\"#8e0152\"],[0.1,\"#c51b7d\"],[0.2,\"#de77ae\"],[0.3,\"#f1b6da\"],[0.4,\"#fde0ef\"],[0.5,\"#f7f7f7\"],[0.6,\"#e6f5d0\"],[0.7,\"#b8e186\"],[0.8,\"#7fbc41\"],[0.9,\"#4d9221\"],[1,\"#276419\"]]},\"xaxis\":{\"gridcolor\":\"white\",\"linecolor\":\"white\",\"ticks\":\"\",\"title\":{\"standoff\":15},\"zerolinecolor\":\"white\",\"automargin\":true,\"zerolinewidth\":2},\"yaxis\":{\"gridcolor\":\"white\",\"linecolor\":\"white\",\"ticks\":\"\",\"title\":{\"standoff\":15},\"zerolinecolor\":\"white\",\"automargin\":true,\"zerolinewidth\":2},\"scene\":{\"xaxis\":{\"backgroundcolor\":\"#E5ECF6\",\"gridcolor\":\"white\",\"linecolor\":\"white\",\"showbackground\":true,\"ticks\":\"\",\"zerolinecolor\":\"white\",\"gridwidth\":2},\"yaxis\":{\"backgroundcolor\":\"#E5ECF6\",\"gridcolor\":\"white\",\"linecolor\":\"white\",\"showbackground\":true,\"ticks\":\"\",\"zerolinecolor\":\"white\",\"gridwidth\":2},\"zaxis\":{\"backgroundcolor\":\"#E5ECF6\",\"gridcolor\":\"white\",\"linecolor\":\"white\",\"showbackground\":true,\"ticks\":\"\",\"zerolinecolor\":\"white\",\"gridwidth\":2}},\"shapedefaults\":{\"line\":{\"color\":\"#2a3f5f\"}},\"annotationdefaults\":{\"arrowcolor\":\"#2a3f5f\",\"arrowhead\":0,\"arrowwidth\":1},\"geo\":{\"bgcolor\":\"white\",\"landcolor\":\"#E5ECF6\",\"subunitcolor\":\"white\",\"showland\":true,\"showlakes\":true,\"lakecolor\":\"white\"},\"title\":{\"x\":0.05},\"mapbox\":{\"style\":\"light\"}}},\"yaxis2\":{\"title\":{\"text\":\"Import\\u00e2ncia Cumulativa (%)\"},\"overlaying\":\"y\",\"side\":\"right\"},\"legend\":{\"x\":0.1,\"y\":1.1,\"orientation\":\"h\"},\"title\":{\"text\":\"Gr\\u00e1fico de Pareto da Import\\u00e2ncia das Vari\\u00e1veis\"},\"xaxis\":{\"title\":{\"text\":\"Vari\\u00e1veis\"}},\"yaxis\":{\"title\":{\"text\":\"Import\\u00e2ncia (Correla\\u00e7\\u00e3o)\"}},\"hovermode\":\"x\"},                        {\"responsive\": true}                    ).then(function(){\n",
              "                            \n",
              "var gd = document.getElementById('48b26a7b-b31f-41b4-8be4-beb9f89c1906');\n",
              "var x = new MutationObserver(function (mutations, observer) {{\n",
              "        var display = window.getComputedStyle(gd).display;\n",
              "        if (!display || display === 'none') {{\n",
              "            console.log([gd, 'removed!']);\n",
              "            Plotly.purge(gd);\n",
              "            observer.disconnect();\n",
              "        }}\n",
              "}});\n",
              "\n",
              "// Listen for the removal of the full notebook cells\n",
              "var notebookContainer = gd.closest('#notebook-container');\n",
              "if (notebookContainer) {{\n",
              "    x.observe(notebookContainer, {childList: true});\n",
              "}}\n",
              "\n",
              "// Listen for the clearing of the current output cell\n",
              "var outputEl = gd.closest('.output');\n",
              "if (outputEl) {{\n",
              "    x.observe(outputEl, {childList: true});\n",
              "}}\n",
              "\n",
              "                        })                };                            </script>        </div>\n",
              "</body>\n",
              "</html>"
            ]
          },
          "metadata": {}
        }
      ]
    },
    {
      "cell_type": "markdown",
      "source": [
        "**PCA**"
      ],
      "metadata": {
        "id": "MT9msjqT9TFp"
      }
    },
    {
      "cell_type": "code",
      "source": [
        "#Esse trecho só será executado quando todos os dados faltantes forem tratados.\n",
        "\n",
        "'''from sklearn.decomposition import PCA\n",
        "\n",
        "# Supondo que dataset_concat seja seu DataFrame com os dados normalizados\n",
        "X = X = dataset_concat.drop(columns=['y'])  # desconsiderando a variável y do dataset\n",
        "\n",
        "# Passo 1: Definir e aplicar o PCA\n",
        "pca = PCA(n_components=0.95)  # Mantém 95% da variância\n",
        "X_pca = pca.fit_transform(X)\n",
        "\n",
        "# Passo 2: Criar um DataFrame para os componentes principais\n",
        "pca_columns = [f'PC{i+1}' for i in range(X_pca.shape[1])]\n",
        "df_pca = pd.DataFrame(X_pca, columns=pca_columns)\n",
        "\n",
        "# Passo 3: Concatenar as novas colunas de componentes principais com o dataset original\n",
        "dataset_concat_pca = pd.concat([dataset_concat, df_pca], axis=1)\n",
        "\n",
        "# Exibir as primeiras linhas do novo dataset com as componentes principais\n",
        "print(dataset_concat_pca.head())\n",
        "'''"
      ],
      "metadata": {
        "colab": {
          "base_uri": "https://localhost:8080/",
          "height": 477
        },
        "id": "lqcw3kEi5jYx",
        "outputId": "4a0b8c82-f6ba-474e-d73e-9fffbecdeb18"
      },
      "execution_count": null,
      "outputs": [
        {
          "output_type": "error",
          "ename": "ValueError",
          "evalue": "Input X contains NaN.\nPCA does not accept missing values encoded as NaN natively. For supervised learning, you might want to consider sklearn.ensemble.HistGradientBoostingClassifier and Regressor which accept missing values encoded as NaNs natively. Alternatively, it is possible to preprocess the data, for instance by using an imputer transformer in a pipeline or drop samples with missing values. See https://scikit-learn.org/stable/modules/impute.html You can find a list of all estimators that handle NaN values at the following page: https://scikit-learn.org/stable/modules/impute.html#estimators-that-handle-nan-values",
          "traceback": [
            "\u001b[0;31m---------------------------------------------------------------------------\u001b[0m",
            "\u001b[0;31mValueError\u001b[0m                                Traceback (most recent call last)",
            "\u001b[0;32m<ipython-input-89-d0d6d396b971>\u001b[0m in \u001b[0;36m<cell line: 8>\u001b[0;34m()\u001b[0m\n\u001b[1;32m      6\u001b[0m \u001b[0;31m# Passo 1: Definir e aplicar o PCA\u001b[0m\u001b[0;34m\u001b[0m\u001b[0;34m\u001b[0m\u001b[0m\n\u001b[1;32m      7\u001b[0m \u001b[0mpca\u001b[0m \u001b[0;34m=\u001b[0m \u001b[0mPCA\u001b[0m\u001b[0;34m(\u001b[0m\u001b[0mn_components\u001b[0m\u001b[0;34m=\u001b[0m\u001b[0;36m0.95\u001b[0m\u001b[0;34m)\u001b[0m  \u001b[0;31m# Mantém 95% da variância\u001b[0m\u001b[0;34m\u001b[0m\u001b[0;34m\u001b[0m\u001b[0m\n\u001b[0;32m----> 8\u001b[0;31m \u001b[0mX_pca\u001b[0m \u001b[0;34m=\u001b[0m \u001b[0mpca\u001b[0m\u001b[0;34m.\u001b[0m\u001b[0mfit_transform\u001b[0m\u001b[0;34m(\u001b[0m\u001b[0mX\u001b[0m\u001b[0;34m)\u001b[0m\u001b[0;34m\u001b[0m\u001b[0;34m\u001b[0m\u001b[0m\n\u001b[0m\u001b[1;32m      9\u001b[0m \u001b[0;34m\u001b[0m\u001b[0m\n\u001b[1;32m     10\u001b[0m \u001b[0;31m# Passo 2: Criar um DataFrame para os componentes principais\u001b[0m\u001b[0;34m\u001b[0m\u001b[0;34m\u001b[0m\u001b[0m\n",
            "\u001b[0;32m/usr/local/lib/python3.10/dist-packages/sklearn/utils/_set_output.py\u001b[0m in \u001b[0;36mwrapped\u001b[0;34m(self, X, *args, **kwargs)\u001b[0m\n\u001b[1;32m    314\u001b[0m     \u001b[0;34m@\u001b[0m\u001b[0mwraps\u001b[0m\u001b[0;34m(\u001b[0m\u001b[0mf\u001b[0m\u001b[0;34m)\u001b[0m\u001b[0;34m\u001b[0m\u001b[0;34m\u001b[0m\u001b[0m\n\u001b[1;32m    315\u001b[0m     \u001b[0;32mdef\u001b[0m \u001b[0mwrapped\u001b[0m\u001b[0;34m(\u001b[0m\u001b[0mself\u001b[0m\u001b[0;34m,\u001b[0m \u001b[0mX\u001b[0m\u001b[0;34m,\u001b[0m \u001b[0;34m*\u001b[0m\u001b[0margs\u001b[0m\u001b[0;34m,\u001b[0m \u001b[0;34m**\u001b[0m\u001b[0mkwargs\u001b[0m\u001b[0;34m)\u001b[0m\u001b[0;34m:\u001b[0m\u001b[0;34m\u001b[0m\u001b[0;34m\u001b[0m\u001b[0m\n\u001b[0;32m--> 316\u001b[0;31m         \u001b[0mdata_to_wrap\u001b[0m \u001b[0;34m=\u001b[0m \u001b[0mf\u001b[0m\u001b[0;34m(\u001b[0m\u001b[0mself\u001b[0m\u001b[0;34m,\u001b[0m \u001b[0mX\u001b[0m\u001b[0;34m,\u001b[0m \u001b[0;34m*\u001b[0m\u001b[0margs\u001b[0m\u001b[0;34m,\u001b[0m \u001b[0;34m**\u001b[0m\u001b[0mkwargs\u001b[0m\u001b[0;34m)\u001b[0m\u001b[0;34m\u001b[0m\u001b[0;34m\u001b[0m\u001b[0m\n\u001b[0m\u001b[1;32m    317\u001b[0m         \u001b[0;32mif\u001b[0m \u001b[0misinstance\u001b[0m\u001b[0;34m(\u001b[0m\u001b[0mdata_to_wrap\u001b[0m\u001b[0;34m,\u001b[0m \u001b[0mtuple\u001b[0m\u001b[0;34m)\u001b[0m\u001b[0;34m:\u001b[0m\u001b[0;34m\u001b[0m\u001b[0;34m\u001b[0m\u001b[0m\n\u001b[1;32m    318\u001b[0m             \u001b[0;31m# only wrap the first output for cross decomposition\u001b[0m\u001b[0;34m\u001b[0m\u001b[0;34m\u001b[0m\u001b[0m\n",
            "\u001b[0;32m/usr/local/lib/python3.10/dist-packages/sklearn/base.py\u001b[0m in \u001b[0;36mwrapper\u001b[0;34m(estimator, *args, **kwargs)\u001b[0m\n\u001b[1;32m   1471\u001b[0m                 )\n\u001b[1;32m   1472\u001b[0m             ):\n\u001b[0;32m-> 1473\u001b[0;31m                 \u001b[0;32mreturn\u001b[0m \u001b[0mfit_method\u001b[0m\u001b[0;34m(\u001b[0m\u001b[0mestimator\u001b[0m\u001b[0;34m,\u001b[0m \u001b[0;34m*\u001b[0m\u001b[0margs\u001b[0m\u001b[0;34m,\u001b[0m \u001b[0;34m**\u001b[0m\u001b[0mkwargs\u001b[0m\u001b[0;34m)\u001b[0m\u001b[0;34m\u001b[0m\u001b[0;34m\u001b[0m\u001b[0m\n\u001b[0m\u001b[1;32m   1474\u001b[0m \u001b[0;34m\u001b[0m\u001b[0m\n\u001b[1;32m   1475\u001b[0m         \u001b[0;32mreturn\u001b[0m \u001b[0mwrapper\u001b[0m\u001b[0;34m\u001b[0m\u001b[0;34m\u001b[0m\u001b[0m\n",
            "\u001b[0;32m/usr/local/lib/python3.10/dist-packages/sklearn/decomposition/_pca.py\u001b[0m in \u001b[0;36mfit_transform\u001b[0;34m(self, X, y)\u001b[0m\n\u001b[1;32m    472\u001b[0m         \u001b[0mC\u001b[0m\u001b[0;34m-\u001b[0m\u001b[0mordered\u001b[0m \u001b[0marray\u001b[0m\u001b[0;34m,\u001b[0m \u001b[0muse\u001b[0m \u001b[0;34m'np.ascontiguousarray'\u001b[0m\u001b[0;34m.\u001b[0m\u001b[0;34m\u001b[0m\u001b[0;34m\u001b[0m\u001b[0m\n\u001b[1;32m    473\u001b[0m         \"\"\"\n\u001b[0;32m--> 474\u001b[0;31m         \u001b[0mU\u001b[0m\u001b[0;34m,\u001b[0m \u001b[0mS\u001b[0m\u001b[0;34m,\u001b[0m \u001b[0m_\u001b[0m\u001b[0;34m,\u001b[0m \u001b[0mX\u001b[0m\u001b[0;34m,\u001b[0m \u001b[0mx_is_centered\u001b[0m\u001b[0;34m,\u001b[0m \u001b[0mxp\u001b[0m \u001b[0;34m=\u001b[0m \u001b[0mself\u001b[0m\u001b[0;34m.\u001b[0m\u001b[0m_fit\u001b[0m\u001b[0;34m(\u001b[0m\u001b[0mX\u001b[0m\u001b[0;34m)\u001b[0m\u001b[0;34m\u001b[0m\u001b[0;34m\u001b[0m\u001b[0m\n\u001b[0m\u001b[1;32m    475\u001b[0m         \u001b[0;32mif\u001b[0m \u001b[0mU\u001b[0m \u001b[0;32mis\u001b[0m \u001b[0;32mnot\u001b[0m \u001b[0;32mNone\u001b[0m\u001b[0;34m:\u001b[0m\u001b[0;34m\u001b[0m\u001b[0;34m\u001b[0m\u001b[0m\n\u001b[1;32m    476\u001b[0m             \u001b[0mU\u001b[0m \u001b[0;34m=\u001b[0m \u001b[0mU\u001b[0m\u001b[0;34m[\u001b[0m\u001b[0;34m:\u001b[0m\u001b[0;34m,\u001b[0m \u001b[0;34m:\u001b[0m \u001b[0mself\u001b[0m\u001b[0;34m.\u001b[0m\u001b[0mn_components_\u001b[0m\u001b[0;34m]\u001b[0m\u001b[0;34m\u001b[0m\u001b[0;34m\u001b[0m\u001b[0m\n",
            "\u001b[0;32m/usr/local/lib/python3.10/dist-packages/sklearn/decomposition/_pca.py\u001b[0m in \u001b[0;36m_fit\u001b[0;34m(self, X)\u001b[0m\n\u001b[1;32m    509\u001b[0m         \u001b[0;31m# The copy will happen\u001b[0m\u001b[0;34m\u001b[0m\u001b[0;34m\u001b[0m\u001b[0m\n\u001b[1;32m    510\u001b[0m         \u001b[0;31m# later, only if needed, once the solver negotiation below is done.\u001b[0m\u001b[0;34m\u001b[0m\u001b[0;34m\u001b[0m\u001b[0m\n\u001b[0;32m--> 511\u001b[0;31m         X = self._validate_data(\n\u001b[0m\u001b[1;32m    512\u001b[0m             \u001b[0mX\u001b[0m\u001b[0;34m,\u001b[0m\u001b[0;34m\u001b[0m\u001b[0;34m\u001b[0m\u001b[0m\n\u001b[1;32m    513\u001b[0m             \u001b[0mdtype\u001b[0m\u001b[0;34m=\u001b[0m\u001b[0;34m[\u001b[0m\u001b[0mxp\u001b[0m\u001b[0;34m.\u001b[0m\u001b[0mfloat64\u001b[0m\u001b[0;34m,\u001b[0m \u001b[0mxp\u001b[0m\u001b[0;34m.\u001b[0m\u001b[0mfloat32\u001b[0m\u001b[0;34m]\u001b[0m\u001b[0;34m,\u001b[0m\u001b[0;34m\u001b[0m\u001b[0;34m\u001b[0m\u001b[0m\n",
            "\u001b[0;32m/usr/local/lib/python3.10/dist-packages/sklearn/base.py\u001b[0m in \u001b[0;36m_validate_data\u001b[0;34m(self, X, y, reset, validate_separately, cast_to_ndarray, **check_params)\u001b[0m\n\u001b[1;32m    631\u001b[0m                 \u001b[0mout\u001b[0m \u001b[0;34m=\u001b[0m \u001b[0mX\u001b[0m\u001b[0;34m,\u001b[0m \u001b[0my\u001b[0m\u001b[0;34m\u001b[0m\u001b[0;34m\u001b[0m\u001b[0m\n\u001b[1;32m    632\u001b[0m         \u001b[0;32melif\u001b[0m \u001b[0;32mnot\u001b[0m \u001b[0mno_val_X\u001b[0m \u001b[0;32mand\u001b[0m \u001b[0mno_val_y\u001b[0m\u001b[0;34m:\u001b[0m\u001b[0;34m\u001b[0m\u001b[0;34m\u001b[0m\u001b[0m\n\u001b[0;32m--> 633\u001b[0;31m             \u001b[0mout\u001b[0m \u001b[0;34m=\u001b[0m \u001b[0mcheck_array\u001b[0m\u001b[0;34m(\u001b[0m\u001b[0mX\u001b[0m\u001b[0;34m,\u001b[0m \u001b[0minput_name\u001b[0m\u001b[0;34m=\u001b[0m\u001b[0;34m\"X\"\u001b[0m\u001b[0;34m,\u001b[0m \u001b[0;34m**\u001b[0m\u001b[0mcheck_params\u001b[0m\u001b[0;34m)\u001b[0m\u001b[0;34m\u001b[0m\u001b[0;34m\u001b[0m\u001b[0m\n\u001b[0m\u001b[1;32m    634\u001b[0m         \u001b[0;32melif\u001b[0m \u001b[0mno_val_X\u001b[0m \u001b[0;32mand\u001b[0m \u001b[0;32mnot\u001b[0m \u001b[0mno_val_y\u001b[0m\u001b[0;34m:\u001b[0m\u001b[0;34m\u001b[0m\u001b[0;34m\u001b[0m\u001b[0m\n\u001b[1;32m    635\u001b[0m             \u001b[0mout\u001b[0m \u001b[0;34m=\u001b[0m \u001b[0m_check_y\u001b[0m\u001b[0;34m(\u001b[0m\u001b[0my\u001b[0m\u001b[0;34m,\u001b[0m \u001b[0;34m**\u001b[0m\u001b[0mcheck_params\u001b[0m\u001b[0;34m)\u001b[0m\u001b[0;34m\u001b[0m\u001b[0;34m\u001b[0m\u001b[0m\n",
            "\u001b[0;32m/usr/local/lib/python3.10/dist-packages/sklearn/utils/validation.py\u001b[0m in \u001b[0;36mcheck_array\u001b[0;34m(array, accept_sparse, accept_large_sparse, dtype, order, copy, force_writeable, force_all_finite, ensure_2d, allow_nd, ensure_min_samples, ensure_min_features, estimator, input_name)\u001b[0m\n\u001b[1;32m   1062\u001b[0m \u001b[0;34m\u001b[0m\u001b[0m\n\u001b[1;32m   1063\u001b[0m         \u001b[0;32mif\u001b[0m \u001b[0mforce_all_finite\u001b[0m\u001b[0;34m:\u001b[0m\u001b[0;34m\u001b[0m\u001b[0;34m\u001b[0m\u001b[0m\n\u001b[0;32m-> 1064\u001b[0;31m             _assert_all_finite(\n\u001b[0m\u001b[1;32m   1065\u001b[0m                 \u001b[0marray\u001b[0m\u001b[0;34m,\u001b[0m\u001b[0;34m\u001b[0m\u001b[0;34m\u001b[0m\u001b[0m\n\u001b[1;32m   1066\u001b[0m                 \u001b[0minput_name\u001b[0m\u001b[0;34m=\u001b[0m\u001b[0minput_name\u001b[0m\u001b[0;34m,\u001b[0m\u001b[0;34m\u001b[0m\u001b[0;34m\u001b[0m\u001b[0m\n",
            "\u001b[0;32m/usr/local/lib/python3.10/dist-packages/sklearn/utils/validation.py\u001b[0m in \u001b[0;36m_assert_all_finite\u001b[0;34m(X, allow_nan, msg_dtype, estimator_name, input_name)\u001b[0m\n\u001b[1;32m    121\u001b[0m         \u001b[0;32mreturn\u001b[0m\u001b[0;34m\u001b[0m\u001b[0;34m\u001b[0m\u001b[0m\n\u001b[1;32m    122\u001b[0m \u001b[0;34m\u001b[0m\u001b[0m\n\u001b[0;32m--> 123\u001b[0;31m     _assert_all_finite_element_wise(\n\u001b[0m\u001b[1;32m    124\u001b[0m         \u001b[0mX\u001b[0m\u001b[0;34m,\u001b[0m\u001b[0;34m\u001b[0m\u001b[0;34m\u001b[0m\u001b[0m\n\u001b[1;32m    125\u001b[0m         \u001b[0mxp\u001b[0m\u001b[0;34m=\u001b[0m\u001b[0mxp\u001b[0m\u001b[0;34m,\u001b[0m\u001b[0;34m\u001b[0m\u001b[0;34m\u001b[0m\u001b[0m\n",
            "\u001b[0;32m/usr/local/lib/python3.10/dist-packages/sklearn/utils/validation.py\u001b[0m in \u001b[0;36m_assert_all_finite_element_wise\u001b[0;34m(X, xp, allow_nan, msg_dtype, estimator_name, input_name)\u001b[0m\n\u001b[1;32m    170\u001b[0m                 \u001b[0;34m\"#estimators-that-handle-nan-values\"\u001b[0m\u001b[0;34m\u001b[0m\u001b[0;34m\u001b[0m\u001b[0m\n\u001b[1;32m    171\u001b[0m             )\n\u001b[0;32m--> 172\u001b[0;31m         \u001b[0;32mraise\u001b[0m \u001b[0mValueError\u001b[0m\u001b[0;34m(\u001b[0m\u001b[0mmsg_err\u001b[0m\u001b[0;34m)\u001b[0m\u001b[0;34m\u001b[0m\u001b[0;34m\u001b[0m\u001b[0m\n\u001b[0m\u001b[1;32m    173\u001b[0m \u001b[0;34m\u001b[0m\u001b[0m\n\u001b[1;32m    174\u001b[0m \u001b[0;34m\u001b[0m\u001b[0m\n",
            "\u001b[0;31mValueError\u001b[0m: Input X contains NaN.\nPCA does not accept missing values encoded as NaN natively. For supervised learning, you might want to consider sklearn.ensemble.HistGradientBoostingClassifier and Regressor which accept missing values encoded as NaNs natively. Alternatively, it is possible to preprocess the data, for instance by using an imputer transformer in a pipeline or drop samples with missing values. See https://scikit-learn.org/stable/modules/impute.html You can find a list of all estimators that handle NaN values at the following page: https://scikit-learn.org/stable/modules/impute.html#estimators-that-handle-nan-values"
          ]
        }
      ]
    },
    {
      "cell_type": "markdown",
      "source": [
        "#Redistribuir os dados antes concatenados"
      ],
      "metadata": {
        "id": "42eUind-U7PQ"
      }
    },
    {
      "cell_type": "code",
      "source": [
        "#utilizar após o tratamento de nulos e outliers\n",
        "'''\n",
        "#RANDOMIZAR E REDISTRIBUIR OS DATASETS\n",
        "# Embaralhando e dividindo novamente (80% treino, 20% teste)\n",
        "train_new, test_new = train_test_split(novo_dataset_completo, test_size=0.2, random_state=15)\n",
        "\n",
        "#redefinir indices\n",
        "train_new = train_new.reset_index(drop=True)\n",
        "test_new = test_new.reset_index(drop=True)\n",
        "'''"
      ],
      "metadata": {
        "id": "grSRDLenR24S"
      },
      "execution_count": null,
      "outputs": []
    }
  ]
}
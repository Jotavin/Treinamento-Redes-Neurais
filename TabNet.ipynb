{
 "cells": [
  {
   "cell_type": "markdown",
   "metadata": {
    "id": "JPfjoE6eiUZm"
   },
   "source": [
    "# Treinamento modelo TabNet"
   ]
  },
  {
   "cell_type": "code",
   "execution_count": null,
   "metadata": {
    "colab": {
     "base_uri": "https://localhost:8080/"
    },
    "collapsed": true,
    "id": "b5fDj1tqC6Z0",
    "outputId": "59002853-8011-4f0c-da68-0152f4871e10"
   },
   "outputs": [],
   "source": [
    "!pip3 install torch torchvision torchaudio --index-url https://download.pytorch.org/whl/cu118\n",
    "!pip install pytorch-tabnet"
   ]
  },
  {
   "cell_type": "markdown",
   "metadata": {},
   "source": [
    "## Importações e tratamento inicial"
   ]
  },
  {
   "cell_type": "code",
   "execution_count": null,
   "metadata": {
    "id": "0yWGY2iUmlqV"
   },
   "outputs": [],
   "source": [
    "import pandas as pd\n",
    "import numpy as np\n",
    "from sklearn.model_selection import train_test_split\n",
    "from pytorch_tabnet.tab_model import TabNetClassifier\n",
    "import matplotlib.pyplot as plt\n",
    "import gc\n",
    "import torch\n",
    "from sklearn.metrics import roc_auc_score, roc_curve, accuracy_score, classification_report"
   ]
  },
  {
   "cell_type": "markdown",
   "metadata": {},
   "source": [
    "### Tratamento"
   ]
  },
  {
   "cell_type": "code",
   "execution_count": null,
   "metadata": {
    "id": "JpbVu9pRJbut"
   },
   "outputs": [],
   "source": [
    "def preencher_valores_com_media_mediana(df):\n",
    "    for col in df.columns:\n",
    "        if df[col].dtype in ['float64', 'int64'] and df[col].isnull().sum() > 0:  # Verifica se a coluna é numérica e se tem nulos\n",
    "            skewness = df[col].skew()  # Calcula a skewness da coluna\n",
    "            if skewness >= -0.5 and skewness <= 0.5:\n",
    "                # Distribuição simétrica, preenche com a média\n",
    "                media = df[col].mean()\n",
    "                df[col] = df[col].fillna(media)\n",
    "                # print(f\"Coluna '{col}' classificada como simétrica. Preenchendo nulos com a média: {media}\")\n",
    "            else:\n",
    "                # Distribuição assimétrica, preenche com a mediana\n",
    "                mediana = df[col].median()\n",
    "                df[col] = df[col].fillna(mediana)\n",
    "                # print(f\"Coluna '{col}' classificada como assimétrica. Preenchendo nulos com a mediana: {mediana}\")\n",
    "    return df"
   ]
  },
  {
   "cell_type": "code",
   "execution_count": null,
   "metadata": {
    "colab": {
     "base_uri": "https://localhost:8080/"
    },
    "id": "lssz2JljB0U5",
    "outputId": "f71c7d5b-ac3a-4539-ab5e-d0a72f57e1e3"
   },
   "outputs": [],
   "source": [
    "# 1. Carregar dados de treino\n",
    "print(\"Carregando dados...\")\n",
    "df_train = pd.read_csv('DF_amostra_02.csv')\n",
    "\n",
    "df_train = df_train.dropna(subset=['y'])"
   ]
  },
  {
   "cell_type": "code",
   "execution_count": null,
   "metadata": {
    "colab": {
     "base_uri": "https://localhost:8080/"
    },
    "id": "K5bFFUuP_ycV",
    "outputId": "0ce2ff3d-8053-42e9-af8d-b149519d7e1b"
   },
   "outputs": [],
   "source": [
    "# 2. Preparar dados\n",
    "print(\"\\nPreparando dados...\")\n",
    "X = df_train.drop('y', axis=1)\n",
    "y = df_train['y']"
   ]
  },
  {
   "cell_type": "code",
   "execution_count": null,
   "metadata": {
    "id": "_T8YFTu9_8b4"
   },
   "outputs": [],
   "source": [
    "# 3. Dividir em treino e teste (validação)\n",
    "X_train, X_val, y_train, y_val = train_test_split(\n",
    "    X, y,\n",
    "    test_size=0.2,\n",
    "    random_state=42,\n",
    "    stratify=y\n",
    ")"
   ]
  },
  {
   "cell_type": "code",
   "execution_count": null,
   "metadata": {
    "colab": {
     "base_uri": "https://localhost:8080/"
    },
    "id": "JqxnbiOqFilR",
    "outputId": "3dbdf88f-bace-43dc-ee31-4f6cb5dfacf2"
   },
   "outputs": [],
   "source": [
    "# 4. Tratar valores nulos nos conjuntos\n",
    "print(\"\\nTratando valores nulos...\")\n",
    "X_train = preencher_valores_com_media_mediana(X_train)\n",
    "X_val = preencher_valores_com_media_mediana(X_val)\n"
   ]
  },
  {
   "cell_type": "code",
   "execution_count": null,
   "metadata": {
    "id": "G6jcOYy6CH9a"
   },
   "outputs": [],
   "source": [
    "# 5. Converter para numpy arrays\n",
    "X_train = X_train.to_numpy()\n",
    "X_val = X_val.to_numpy()\n",
    "y_train = y_train.to_numpy()\n",
    "y_val = y_val.to_numpy()"
   ]
  },
  {
   "cell_type": "code",
   "execution_count": null,
   "metadata": {
    "colab": {
     "base_uri": "https://localhost:8080/"
    },
    "id": "12iJf11XDqnU",
    "outputId": "149588d7-9324-4671-e9cc-0fee5fe8c8fa"
   },
   "outputs": [],
   "source": [
    "# 6. Definir parâmetros e treinar\n",
    "print(\"\\nConfigurando e treinando modelo...\")\n",
    "model = TabNetClassifier(\n",
    "    n_d=128,\n",
    "    n_a=128,\n",
    "    n_steps=3,\n",
    "    gamma=1.3,\n",
    "    n_independent=2,\n",
    "    n_shared=2,\n",
    "    lambda_sparse=1e-4,\n",
    "    optimizer_params={'lr': 0.02},\n",
    "    verbose=1\n",
    ")"
   ]
  },
  {
   "cell_type": "code",
   "execution_count": null,
   "metadata": {
    "colab": {
     "base_uri": "https://localhost:8080/"
    },
    "id": "IgW7Sz6vYSS_",
    "outputId": "85b7e81f-30b5-4a71-94de-55e1748abc8b"
   },
   "outputs": [],
   "source": [
    "# 7. Treinar modelo\n",
    "model.fit(\n",
    "    X_train, y_train,\n",
    "    eval_set=[(X_train, y_train), (X_val, y_val)],\n",
    "    eval_name=['train', 'valid'],\n",
    "    eval_metric=['auc', 'accuracy', 'balanced_accuracy', 'logloss'],\n",
    "    max_epochs=30,\n",
    "    patience=10,\n",
    "    batch_size=512,\n",
    "    virtual_batch_size=128\n",
    ")"
   ]
  },
  {
   "cell_type": "markdown",
   "metadata": {},
   "source": [
    "## Salvar modelo e histórico de parâmetros"
   ]
  },
  {
   "cell_type": "code",
   "execution_count": null,
   "metadata": {
    "colab": {
     "base_uri": "https://localhost:8080/",
     "height": 507
    },
    "id": "FGYrqx5ytSOm",
    "outputId": "9a3cee63-93e7-4a83-d59a-fc4cd95949c4"
   },
   "outputs": [],
   "source": [
    "\n",
    "print(\"\\nSalvando o modelo...\")\n",
    "model.save_model('TabNet_v5 128d, 512bs.zip')"
   ]
  },
  {
   "cell_type": "code",
   "execution_count": null,
   "metadata": {
    "colab": {
     "base_uri": "https://localhost:8080/"
    },
    "id": "APtqpBxjtdkc",
    "outputId": "43ecd3d3-2091-419b-a613-49f89b675474"
   },
   "outputs": [],
   "source": [
    "history = model.history\n",
    "# pd.DataFrame(history).to_csv('training_history.csv', index=False)\n",
    "print(history)"
   ]
  },
  {
   "cell_type": "code",
   "execution_count": null,
   "metadata": {
    "id": "c4n3lPOwtsDz"
   },
   "outputs": [],
   "source": [
    "history_dict = {\n",
    "    'epoch': range(len(model.history['loss'])),\n",
    "    'loss': model.history['loss'],\n",
    "    'train_auc': model.history['train_auc'],\n",
    "    'valid_auc': model.history['valid_auc']\n",
    "}\n",
    "history_df = pd.DataFrame(history_dict)\n",
    "history_df.to_csv('training_history.csv', index=False)"
   ]
  },
  {
   "cell_type": "markdown",
   "metadata": {},
   "source": [
    "### Métricas do modelo durante treinamento"
   ]
  },
  {
   "cell_type": "code",
   "execution_count": null,
   "metadata": {
    "colab": {
     "base_uri": "https://localhost:8080/",
     "height": 802
    },
    "id": "9RTzC5CskJD9",
    "outputId": "ebabfb4c-dc5b-4e31-9d27-e75389e57c04"
   },
   "outputs": [],
   "source": [
    "# Plotar métricas ao longo do treinamento / Verificar overfitting AUC-ROC\n",
    "plt.figure(figsize=(15, 5))\n",
    "\n",
    "# Plot Loss\n",
    "plt.subplot(1, 3, 1)\n",
    "plt.plot(model.history['loss'])\n",
    "plt.title('Loss')\n",
    "plt.xlabel('Epoch')\n",
    "plt.ylabel('Loss')\n",
    "plt.grid(True)\n",
    "\n",
    "# Plot AUC\n",
    "plt.subplot(1, 3, 2)\n",
    "plt.plot(model.history['train_auc'], label='Train')\n",
    "plt.plot(model.history['valid_auc'], label='Valid')\n",
    "plt.title('AUC')\n",
    "plt.xlabel('Epoch')\n",
    "plt.ylabel('AUC')\n",
    "plt.legend()\n",
    "plt.grid(True)\n",
    "\n",
    "plt.tight_layout()\n",
    "plt.show()"
   ]
  },
  {
   "cell_type": "markdown",
   "metadata": {},
   "source": [
    "## Validação do modelo no dataset de test real"
   ]
  },
  {
   "cell_type": "code",
   "execution_count": null,
   "metadata": {},
   "outputs": [],
   "source": [
    "def test_model(pathfile):\n",
    "    df_test = pd.read_csv(pathfile + '.csv')\n",
    "    # Separar features e target\n",
    "    X_test = df_test.drop('y', axis=1)\n",
    "    y_test = df_test['y']  # Pegando os valores reais\n",
    "\n",
    "    # Preparar dados\n",
    "    X_test = preencher_valores_com_media_mediana(X_test)\n",
    "    X_test = X_test.to_numpy()\n",
    "    y_test = y_test.to_numpy()\n",
    "\n",
    "    return X_test, y_test"
   ]
  },
  {
   "cell_type": "code",
   "execution_count": null,
   "metadata": {},
   "outputs": [],
   "source": [
    "X_test, y_test = test_model('test')\n",
    "\n",
    "# 8. Fazer predições no conjunto de teste\n",
    "print(\"\\nFazendo predições no conjunto de teste...\")\n",
    "test_predictions = model.predict_proba(X_test)\n",
    "\n",
    "prediction = model.predict(X_test)\n",
    "\n",
    "# Calculando e mostrando a acurácia\n",
    "acuracia = accuracy_score(y_test, prediction)\n",
    "print(f\"\\nAcurácia do modelo: {acuracia:.4f}\")\n",
    "\n",
    "# Mostrando relatório detalhado de classificação\n",
    "print(\"\\nRelatório de Classificação:\")\n",
    "print(classification_report(y_test, prediction))\n",
    "\n",
    "# Verificando e mostrando a importância das features\n",
    "importancia_features = pd.DataFrame({\n",
    "    'feature': X.columns,  # Mantemos as colunas originais do DataFrame\n",
    "    'importancia': model.feature_importances_\n",
    "})\n",
    "print(\"\\nImportância das Features:\")\n",
    "print(importancia_features.sort_values('importancia', ascending=False))"
   ]
  },
  {
   "cell_type": "code",
   "execution_count": null,
   "metadata": {
    "id": "LPYajuDDygy0"
   },
   "outputs": [],
   "source": [
    "# Calcular ROC AUC\n",
    "fpr, tpr, _ = roc_curve(y_test, test_predictions[:, 1])\n",
    "auc = roc_auc_score(y_test, test_predictions[:, 1])"
   ]
  },
  {
   "cell_type": "code",
   "execution_count": null,
   "metadata": {
    "colab": {
     "base_uri": "https://localhost:8080/",
     "height": 472
    },
    "id": "yKFkDLGM1BO9",
    "outputId": "39874d58-288a-40d8-9083-a886e15ea622"
   },
   "outputs": [],
   "source": [
    "# Plot da curva ROC\n",
    "plt.plot(fpr, tpr, label=f'ROC curve (AUC = {auc:.3f})')\n",
    "plt.plot([0, 1], [0, 1], 'k--')  # linha diagonal\n",
    "plt.title('Curva ROC no conjunto de teste')\n",
    "plt.xlabel('Taxa de Falsos Positivos')\n",
    "plt.ylabel('Taxa de Verdadeiros Positivos')\n",
    "plt.legend()\n",
    "plt.grid(True)\n"
   ]
  },
  {
   "cell_type": "code",
   "execution_count": null,
   "metadata": {
    "id": "bM28KsrQE8iw"
   },
   "outputs": [],
   "source": [
    "prediction = model.predict(X_test)\n",
    "\n",
    "# Calculando e mostrando a acurácia\n",
    "acuracia = accuracy_score(y_test, prediction)\n",
    "print(f\"\\nAcurácia do modelo: {acuracia:.4f}\")\n",
    "\n",
    "# Mostrando relatório detalhado de classificação\n",
    "print(\"\\nRelatório de Classificação:\")\n",
    "print(classification_report(y_test, prediction))\n",
    "\n",
    "# Verificando e mostrando a importância das features\n",
    "importancia_features = pd.DataFrame({\n",
    "    'feature': X.columns,  # Mantemos as colunas originais do DataFrame\n",
    "    'importancia': model.feature_importances_\n",
    "})\n",
    "print(\"\\nImportância das Features:\")\n",
    "print(importancia_features.sort_values('importancia', ascending=False))"
   ]
  }
 ],
 "metadata": {
  "colab": {
   "provenance": []
  },
  "kernelspec": {
   "display_name": "Python 3",
   "name": "python3"
  },
  "language_info": {
   "name": "python"
  }
 },
 "nbformat": 4,
 "nbformat_minor": 0
}

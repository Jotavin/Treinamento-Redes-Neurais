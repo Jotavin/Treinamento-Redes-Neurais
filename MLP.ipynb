{
  "nbformat": 4,
  "nbformat_minor": 0,
  "metadata": {
    "colab": {
      "provenance": []
    },
    "kernelspec": {
      "name": "python3",
      "display_name": "Python 3"
    },
    "language_info": {
      "name": "python"
    }
  },
  "cells": [
    {
      "cell_type": "markdown",
      "source": [
        "#Importando bibliotecas e loading dos dados"
      ],
      "metadata": {
        "id": "p4gwtPVKDW3W"
      }
    },
    {
      "cell_type": "code",
      "source": [
        "!pip install tensorflow\n",
        "import pandas as pd\n",
        "from sklearn.model_selection import train_test_split\n",
        "from sklearn.preprocessing import StandardScaler\n",
        "from tensorflow.keras import regularizers\n",
        "from tensorflow.keras.models import Sequential\n",
        "from tensorflow.keras.layers import Dense\n",
        "from tensorflow.keras.layers import Dropout\n",
        "from tensorflow.keras.callbacks import EarlyStopping\n",
        "from tensorflow.keras.layers import LeakyReLU\n",
        "from tensorflow.keras.optimizers import Adam\n",
        "from sklearn.metrics import accuracy_score"
      ],
      "metadata": {
        "colab": {
          "base_uri": "https://localhost:8080/"
        },
        "id": "Rw5GUoRoDa_P",
        "outputId": "12f5642a-68d6-4455-c603-083a55decea4"
      },
      "execution_count": 82,
      "outputs": [
        {
          "output_type": "stream",
          "name": "stdout",
          "text": [
            "Requirement already satisfied: tensorflow in /usr/local/lib/python3.10/dist-packages (2.17.0)\n",
            "Requirement already satisfied: absl-py>=1.0.0 in /usr/local/lib/python3.10/dist-packages (from tensorflow) (1.4.0)\n",
            "Requirement already satisfied: astunparse>=1.6.0 in /usr/local/lib/python3.10/dist-packages (from tensorflow) (1.6.3)\n",
            "Requirement already satisfied: flatbuffers>=24.3.25 in /usr/local/lib/python3.10/dist-packages (from tensorflow) (24.3.25)\n",
            "Requirement already satisfied: gast!=0.5.0,!=0.5.1,!=0.5.2,>=0.2.1 in /usr/local/lib/python3.10/dist-packages (from tensorflow) (0.6.0)\n",
            "Requirement already satisfied: google-pasta>=0.1.1 in /usr/local/lib/python3.10/dist-packages (from tensorflow) (0.2.0)\n",
            "Requirement already satisfied: h5py>=3.10.0 in /usr/local/lib/python3.10/dist-packages (from tensorflow) (3.11.0)\n",
            "Requirement already satisfied: libclang>=13.0.0 in /usr/local/lib/python3.10/dist-packages (from tensorflow) (18.1.1)\n",
            "Requirement already satisfied: ml-dtypes<0.5.0,>=0.3.1 in /usr/local/lib/python3.10/dist-packages (from tensorflow) (0.4.1)\n",
            "Requirement already satisfied: opt-einsum>=2.3.2 in /usr/local/lib/python3.10/dist-packages (from tensorflow) (3.4.0)\n",
            "Requirement already satisfied: packaging in /usr/local/lib/python3.10/dist-packages (from tensorflow) (24.1)\n",
            "Requirement already satisfied: protobuf!=4.21.0,!=4.21.1,!=4.21.2,!=4.21.3,!=4.21.4,!=4.21.5,<5.0.0dev,>=3.20.3 in /usr/local/lib/python3.10/dist-packages (from tensorflow) (3.20.3)\n",
            "Requirement already satisfied: requests<3,>=2.21.0 in /usr/local/lib/python3.10/dist-packages (from tensorflow) (2.32.3)\n",
            "Requirement already satisfied: setuptools in /usr/local/lib/python3.10/dist-packages (from tensorflow) (75.1.0)\n",
            "Requirement already satisfied: six>=1.12.0 in /usr/local/lib/python3.10/dist-packages (from tensorflow) (1.16.0)\n",
            "Requirement already satisfied: termcolor>=1.1.0 in /usr/local/lib/python3.10/dist-packages (from tensorflow) (2.5.0)\n",
            "Requirement already satisfied: typing-extensions>=3.6.6 in /usr/local/lib/python3.10/dist-packages (from tensorflow) (4.12.2)\n",
            "Requirement already satisfied: wrapt>=1.11.0 in /usr/local/lib/python3.10/dist-packages (from tensorflow) (1.16.0)\n",
            "Requirement already satisfied: grpcio<2.0,>=1.24.3 in /usr/local/lib/python3.10/dist-packages (from tensorflow) (1.64.1)\n",
            "Requirement already satisfied: tensorboard<2.18,>=2.17 in /usr/local/lib/python3.10/dist-packages (from tensorflow) (2.17.0)\n",
            "Requirement already satisfied: keras>=3.2.0 in /usr/local/lib/python3.10/dist-packages (from tensorflow) (3.4.1)\n",
            "Requirement already satisfied: tensorflow-io-gcs-filesystem>=0.23.1 in /usr/local/lib/python3.10/dist-packages (from tensorflow) (0.37.1)\n",
            "Requirement already satisfied: numpy<2.0.0,>=1.23.5 in /usr/local/lib/python3.10/dist-packages (from tensorflow) (1.26.4)\n",
            "Requirement already satisfied: wheel<1.0,>=0.23.0 in /usr/local/lib/python3.10/dist-packages (from astunparse>=1.6.0->tensorflow) (0.44.0)\n",
            "Requirement already satisfied: rich in /usr/local/lib/python3.10/dist-packages (from keras>=3.2.0->tensorflow) (13.9.2)\n",
            "Requirement already satisfied: namex in /usr/local/lib/python3.10/dist-packages (from keras>=3.2.0->tensorflow) (0.0.8)\n",
            "Requirement already satisfied: optree in /usr/local/lib/python3.10/dist-packages (from keras>=3.2.0->tensorflow) (0.13.0)\n",
            "Requirement already satisfied: charset-normalizer<4,>=2 in /usr/local/lib/python3.10/dist-packages (from requests<3,>=2.21.0->tensorflow) (3.4.0)\n",
            "Requirement already satisfied: idna<4,>=2.5 in /usr/local/lib/python3.10/dist-packages (from requests<3,>=2.21.0->tensorflow) (3.10)\n",
            "Requirement already satisfied: urllib3<3,>=1.21.1 in /usr/local/lib/python3.10/dist-packages (from requests<3,>=2.21.0->tensorflow) (2.2.3)\n",
            "Requirement already satisfied: certifi>=2017.4.17 in /usr/local/lib/python3.10/dist-packages (from requests<3,>=2.21.0->tensorflow) (2024.8.30)\n",
            "Requirement already satisfied: markdown>=2.6.8 in /usr/local/lib/python3.10/dist-packages (from tensorboard<2.18,>=2.17->tensorflow) (3.7)\n",
            "Requirement already satisfied: tensorboard-data-server<0.8.0,>=0.7.0 in /usr/local/lib/python3.10/dist-packages (from tensorboard<2.18,>=2.17->tensorflow) (0.7.2)\n",
            "Requirement already satisfied: werkzeug>=1.0.1 in /usr/local/lib/python3.10/dist-packages (from tensorboard<2.18,>=2.17->tensorflow) (3.0.4)\n",
            "Requirement already satisfied: MarkupSafe>=2.1.1 in /usr/local/lib/python3.10/dist-packages (from werkzeug>=1.0.1->tensorboard<2.18,>=2.17->tensorflow) (3.0.1)\n",
            "Requirement already satisfied: markdown-it-py>=2.2.0 in /usr/local/lib/python3.10/dist-packages (from rich->keras>=3.2.0->tensorflow) (3.0.0)\n",
            "Requirement already satisfied: pygments<3.0.0,>=2.13.0 in /usr/local/lib/python3.10/dist-packages (from rich->keras>=3.2.0->tensorflow) (2.18.0)\n",
            "Requirement already satisfied: mdurl~=0.1 in /usr/local/lib/python3.10/dist-packages (from markdown-it-py>=2.2.0->rich->keras>=3.2.0->tensorflow) (0.1.2)\n"
          ]
        }
      ]
    },
    {
      "cell_type": "code",
      "source": [
        "df = pd.read_csv('DF_amostra_02.csv')"
      ],
      "metadata": {
        "id": "d-NsMpfeDl3a"
      },
      "execution_count": 83,
      "outputs": []
    },
    {
      "cell_type": "code",
      "source": [
        "df.info()"
      ],
      "metadata": {
        "colab": {
          "base_uri": "https://localhost:8080/"
        },
        "id": "4NqGtMMTX23b",
        "outputId": "217d7b77-e3bd-49d2-9366-fc27d1d996e9"
      },
      "execution_count": 84,
      "outputs": [
        {
          "output_type": "stream",
          "name": "stdout",
          "text": [
            "<class 'pandas.core.frame.DataFrame'>\n",
            "RangeIndex: 277078 entries, 0 to 277077\n",
            "Data columns (total 62 columns):\n",
            " #   Column  Non-Null Count   Dtype  \n",
            "---  ------  --------------   -----  \n",
            " 0   x0      277078 non-null  float64\n",
            " 1   x1      277078 non-null  float64\n",
            " 2   x2      277078 non-null  float64\n",
            " 3   x3      277078 non-null  float64\n",
            " 4   x4      277078 non-null  float64\n",
            " 5   x5      277078 non-null  float64\n",
            " 6   x6      277078 non-null  float64\n",
            " 7   x7      277078 non-null  float64\n",
            " 8   x8      277078 non-null  float64\n",
            " 9   x9      277078 non-null  float64\n",
            " 10  x10     277078 non-null  float64\n",
            " 11  x11     277078 non-null  float64\n",
            " 12  x12     277078 non-null  float64\n",
            " 13  x13     277078 non-null  float64\n",
            " 14  x14     277078 non-null  float64\n",
            " 15  x15     277078 non-null  float64\n",
            " 16  x16     277078 non-null  float64\n",
            " 17  x17     277078 non-null  float64\n",
            " 18  x18     277078 non-null  float64\n",
            " 19  x19     277078 non-null  float64\n",
            " 20  x20     277078 non-null  float64\n",
            " 21  x21     277078 non-null  float64\n",
            " 22  x22     277078 non-null  float64\n",
            " 23  x23     277078 non-null  float64\n",
            " 24  x24     277078 non-null  float64\n",
            " 25  x25     277078 non-null  float64\n",
            " 26  x26     277078 non-null  float64\n",
            " 27  x27     277078 non-null  float64\n",
            " 28  x28     277078 non-null  float64\n",
            " 29  x29     277078 non-null  float64\n",
            " 30  x30     277078 non-null  float64\n",
            " 31  x31     277078 non-null  float64\n",
            " 32  x32     277078 non-null  float64\n",
            " 33  x33     277078 non-null  float64\n",
            " 34  x34     277078 non-null  float64\n",
            " 35  x35     277078 non-null  float64\n",
            " 36  x36     277078 non-null  float64\n",
            " 37  x37     277078 non-null  float64\n",
            " 38  x38     277078 non-null  float64\n",
            " 39  x39     277078 non-null  float64\n",
            " 40  x40     277078 non-null  float64\n",
            " 41  x41     277078 non-null  float64\n",
            " 42  x42     277078 non-null  float64\n",
            " 43  x43     277078 non-null  float64\n",
            " 44  x44     277078 non-null  float64\n",
            " 45  x45     277078 non-null  float64\n",
            " 46  x46     277078 non-null  float64\n",
            " 47  x47     277078 non-null  float64\n",
            " 48  x48     277078 non-null  float64\n",
            " 49  x49     277078 non-null  float64\n",
            " 50  x50     277078 non-null  float64\n",
            " 51  x51     277078 non-null  float64\n",
            " 52  x52     277078 non-null  float64\n",
            " 53  x53     277078 non-null  float64\n",
            " 54  x54     277078 non-null  float64\n",
            " 55  x55     277078 non-null  float64\n",
            " 56  x56     277078 non-null  float64\n",
            " 57  x57     277078 non-null  float64\n",
            " 58  x58     277078 non-null  float64\n",
            " 59  x59     277078 non-null  float64\n",
            " 60  x60     277078 non-null  float64\n",
            " 61  y       277078 non-null  int64  \n",
            "dtypes: float64(61), int64(1)\n",
            "memory usage: 131.1 MB\n"
          ]
        }
      ]
    },
    {
      "cell_type": "markdown",
      "source": [
        "#Separando e dividindo os dados"
      ],
      "metadata": {
        "id": "HNG4jHpDEK12"
      }
    },
    {
      "cell_type": "code",
      "source": [
        "# 2. Separar os dados entre variáveis de entrada (X) e variável alvo (y)\n",
        "X = df.drop('y', axis=1)  # Remove a coluna 'y' que é a variável alvo\n",
        "y = df['y']  # Variável alvo\n",
        "\n",
        "# 3. Dividir os dados em treino e teste (80% treino, 20% teste)\n",
        "X_train, X_test, y_train, y_test = train_test_split(X, y, test_size=0.2, random_state=15, stratify=y)"
      ],
      "metadata": {
        "id": "WdP5Tl8AEONx"
      },
      "execution_count": 85,
      "outputs": []
    },
    {
      "cell_type": "markdown",
      "source": [
        "#MLP"
      ],
      "metadata": {
        "id": "XG7iiyHHBFO9"
      }
    },
    {
      "cell_type": "code",
      "execution_count": null,
      "metadata": {
        "id": "yYxFlfaVBCRT",
        "colab": {
          "base_uri": "https://localhost:8080/"
        },
        "outputId": "788839d5-ffb6-46d9-85e7-aa80a5fe90ca"
      },
      "outputs": [
        {
          "output_type": "stream",
          "name": "stderr",
          "text": [
            "/usr/local/lib/python3.10/dist-packages/keras/src/layers/core/dense.py:87: UserWarning: Do not pass an `input_shape`/`input_dim` argument to a layer. When using Sequential models, prefer using an `Input(shape)` object as the first layer in the model instead.\n",
            "  super().__init__(activity_regularizer=activity_regularizer, **kwargs)\n"
          ]
        },
        {
          "output_type": "stream",
          "name": "stdout",
          "text": [
            "Epoch 1/50\n",
            "\u001b[1m5542/5542\u001b[0m \u001b[32m━━━━━━━━━━━━━━━━━━━━\u001b[0m\u001b[37m\u001b[0m \u001b[1m26s\u001b[0m 4ms/step - accuracy: 0.6358 - loss: 0.6378 - val_accuracy: 0.6752 - val_loss: 0.6025\n",
            "Epoch 2/50\n",
            "\u001b[1m5542/5542\u001b[0m \u001b[32m━━━━━━━━━━━━━━━━━━━━\u001b[0m\u001b[37m\u001b[0m \u001b[1m36s\u001b[0m 3ms/step - accuracy: 0.6687 - loss: 0.6097 - val_accuracy: 0.6765 - val_loss: 0.5936\n",
            "Epoch 3/50\n",
            "\u001b[1m5542/5542\u001b[0m \u001b[32m━━━━━━━━━━━━━━━━━━━━\u001b[0m\u001b[37m\u001b[0m \u001b[1m22s\u001b[0m 4ms/step - accuracy: 0.6734 - loss: 0.6023 - val_accuracy: 0.6876 - val_loss: 0.5826\n",
            "Epoch 4/50\n",
            "\u001b[1m5542/5542\u001b[0m \u001b[32m━━━━━━━━━━━━━━━━━━━━\u001b[0m\u001b[37m\u001b[0m \u001b[1m22s\u001b[0m 4ms/step - accuracy: 0.6825 - loss: 0.5960 - val_accuracy: 0.6866 - val_loss: 0.5800\n",
            "Epoch 5/50\n",
            "\u001b[1m5542/5542\u001b[0m \u001b[32m━━━━━━━━━━━━━━━━━━━━\u001b[0m\u001b[37m\u001b[0m \u001b[1m21s\u001b[0m 4ms/step - accuracy: 0.6873 - loss: 0.5917 - val_accuracy: 0.6995 - val_loss: 0.5751\n",
            "Epoch 6/50\n",
            "\u001b[1m5542/5542\u001b[0m \u001b[32m━━━━━━━━━━━━━━━━━━━━\u001b[0m\u001b[37m\u001b[0m \u001b[1m40s\u001b[0m 4ms/step - accuracy: 0.6889 - loss: 0.5892 - val_accuracy: 0.7043 - val_loss: 0.5705\n",
            "Epoch 7/50\n",
            "\u001b[1m5542/5542\u001b[0m \u001b[32m━━━━━━━━━━━━━━━━━━━━\u001b[0m\u001b[37m\u001b[0m \u001b[1m21s\u001b[0m 4ms/step - accuracy: 0.6914 - loss: 0.5866 - val_accuracy: 0.7071 - val_loss: 0.5663\n",
            "Epoch 8/50\n",
            "\u001b[1m5542/5542\u001b[0m \u001b[32m━━━━━━━━━━━━━━━━━━━━\u001b[0m\u001b[37m\u001b[0m \u001b[1m42s\u001b[0m 4ms/step - accuracy: 0.6941 - loss: 0.5825 - val_accuracy: 0.7076 - val_loss: 0.5629\n",
            "Epoch 9/50\n",
            "\u001b[1m5542/5542\u001b[0m \u001b[32m━━━━━━━━━━━━━━━━━━━━\u001b[0m\u001b[37m\u001b[0m \u001b[1m40s\u001b[0m 4ms/step - accuracy: 0.6952 - loss: 0.5838 - val_accuracy: 0.7090 - val_loss: 0.5615\n",
            "Epoch 10/50\n",
            "\u001b[1m5542/5542\u001b[0m \u001b[32m━━━━━━━━━━━━━━━━━━━━\u001b[0m\u001b[37m\u001b[0m \u001b[1m19s\u001b[0m 3ms/step - accuracy: 0.7000 - loss: 0.5785 - val_accuracy: 0.7047 - val_loss: 0.5620\n",
            "Epoch 11/50\n",
            "\u001b[1m5542/5542\u001b[0m \u001b[32m━━━━━━━━━━━━━━━━━━━━\u001b[0m\u001b[37m\u001b[0m \u001b[1m20s\u001b[0m 4ms/step - accuracy: 0.6998 - loss: 0.5765 - val_accuracy: 0.7108 - val_loss: 0.5590\n",
            "Epoch 12/50\n",
            "\u001b[1m5542/5542\u001b[0m \u001b[32m━━━━━━━━━━━━━━━━━━━━\u001b[0m\u001b[37m\u001b[0m \u001b[1m20s\u001b[0m 4ms/step - accuracy: 0.7003 - loss: 0.5770 - val_accuracy: 0.7151 - val_loss: 0.5536\n",
            "Epoch 13/50\n",
            "\u001b[1m5542/5542\u001b[0m \u001b[32m━━━━━━━━━━━━━━━━━━━━\u001b[0m\u001b[37m\u001b[0m \u001b[1m20s\u001b[0m 4ms/step - accuracy: 0.7032 - loss: 0.5749 - val_accuracy: 0.7201 - val_loss: 0.5522\n",
            "Epoch 14/50\n",
            "\u001b[1m5542/5542\u001b[0m \u001b[32m━━━━━━━━━━━━━━━━━━━━\u001b[0m\u001b[37m\u001b[0m \u001b[1m20s\u001b[0m 4ms/step - accuracy: 0.7046 - loss: 0.5728 - val_accuracy: 0.7164 - val_loss: 0.5541\n",
            "Epoch 15/50\n",
            "\u001b[1m5542/5542\u001b[0m \u001b[32m━━━━━━━━━━━━━━━━━━━━\u001b[0m\u001b[37m\u001b[0m \u001b[1m19s\u001b[0m 3ms/step - accuracy: 0.7062 - loss: 0.5710 - val_accuracy: 0.7155 - val_loss: 0.5519\n",
            "Epoch 16/50\n",
            "\u001b[1m5542/5542\u001b[0m \u001b[32m━━━━━━━━━━━━━━━━━━━━\u001b[0m\u001b[37m\u001b[0m \u001b[1m22s\u001b[0m 4ms/step - accuracy: 0.7081 - loss: 0.5684 - val_accuracy: 0.7206 - val_loss: 0.5487\n",
            "Epoch 17/50\n",
            "\u001b[1m5542/5542\u001b[0m \u001b[32m━━━━━━━━━━━━━━━━━━━━\u001b[0m\u001b[37m\u001b[0m \u001b[1m41s\u001b[0m 4ms/step - accuracy: 0.7075 - loss: 0.5701 - val_accuracy: 0.7190 - val_loss: 0.5473\n",
            "Epoch 18/50\n",
            "\u001b[1m5542/5542\u001b[0m \u001b[32m━━━━━━━━━━━━━━━━━━━━\u001b[0m\u001b[37m\u001b[0m \u001b[1m23s\u001b[0m 4ms/step - accuracy: 0.7112 - loss: 0.5663 - val_accuracy: 0.7267 - val_loss: 0.5483\n",
            "Epoch 19/50\n",
            "\u001b[1m5542/5542\u001b[0m \u001b[32m━━━━━━━━━━━━━━━━━━━━\u001b[0m\u001b[37m\u001b[0m \u001b[1m20s\u001b[0m 4ms/step - accuracy: 0.7103 - loss: 0.5658 - val_accuracy: 0.7251 - val_loss: 0.5477\n",
            "Epoch 20/50\n",
            "\u001b[1m5542/5542\u001b[0m \u001b[32m━━━━━━━━━━━━━━━━━━━━\u001b[0m\u001b[37m\u001b[0m \u001b[1m20s\u001b[0m 4ms/step - accuracy: 0.7134 - loss: 0.5653 - val_accuracy: 0.7205 - val_loss: 0.5451\n",
            "Epoch 21/50\n",
            "\u001b[1m5542/5542\u001b[0m \u001b[32m━━━━━━━━━━━━━━━━━━━━\u001b[0m\u001b[37m\u001b[0m \u001b[1m20s\u001b[0m 4ms/step - accuracy: 0.7121 - loss: 0.5653 - val_accuracy: 0.7282 - val_loss: 0.5406\n",
            "Epoch 22/50\n",
            "\u001b[1m5542/5542\u001b[0m \u001b[32m━━━━━━━━━━━━━━━━━━━━\u001b[0m\u001b[37m\u001b[0m \u001b[1m31s\u001b[0m 6ms/step - accuracy: 0.7160 - loss: 0.5612 - val_accuracy: 0.7277 - val_loss: 0.5405\n",
            "Epoch 23/50\n",
            "\u001b[1m5542/5542\u001b[0m \u001b[32m━━━━━━━━━━━━━━━━━━━━\u001b[0m\u001b[37m\u001b[0m \u001b[1m21s\u001b[0m 4ms/step - accuracy: 0.7166 - loss: 0.5600 - val_accuracy: 0.7166 - val_loss: 0.5433\n",
            "Epoch 24/50\n",
            "\u001b[1m5542/5542\u001b[0m \u001b[32m━━━━━━━━━━━━━━━━━━━━\u001b[0m\u001b[37m\u001b[0m \u001b[1m41s\u001b[0m 4ms/step - accuracy: 0.7162 - loss: 0.5588 - val_accuracy: 0.7262 - val_loss: 0.5400\n",
            "Epoch 25/50\n",
            "\u001b[1m5542/5542\u001b[0m \u001b[32m━━━━━━━━━━━━━━━━━━━━\u001b[0m\u001b[37m\u001b[0m \u001b[1m20s\u001b[0m 4ms/step - accuracy: 0.7152 - loss: 0.5617 - val_accuracy: 0.7330 - val_loss: 0.5369\n",
            "Epoch 26/50\n",
            "\u001b[1m5542/5542\u001b[0m \u001b[32m━━━━━━━━━━━━━━━━━━━━\u001b[0m\u001b[37m\u001b[0m \u001b[1m20s\u001b[0m 4ms/step - accuracy: 0.7179 - loss: 0.5571 - val_accuracy: 0.7293 - val_loss: 0.5348\n",
            "Epoch 27/50\n",
            "\u001b[1m5542/5542\u001b[0m \u001b[32m━━━━━━━━━━━━━━━━━━━━\u001b[0m\u001b[37m\u001b[0m \u001b[1m21s\u001b[0m 4ms/step - accuracy: 0.7203 - loss: 0.5577 - val_accuracy: 0.7308 - val_loss: 0.5359\n",
            "Epoch 28/50\n",
            "\u001b[1m5542/5542\u001b[0m \u001b[32m━━━━━━━━━━━━━━━━━━━━\u001b[0m\u001b[37m\u001b[0m \u001b[1m20s\u001b[0m 4ms/step - accuracy: 0.7194 - loss: 0.5572 - val_accuracy: 0.7341 - val_loss: 0.5345\n",
            "Epoch 29/50\n",
            "\u001b[1m5542/5542\u001b[0m \u001b[32m━━━━━━━━━━━━━━━━━━━━\u001b[0m\u001b[37m\u001b[0m \u001b[1m23s\u001b[0m 4ms/step - accuracy: 0.7221 - loss: 0.5548 - val_accuracy: 0.7299 - val_loss: 0.5352\n",
            "Epoch 30/50\n",
            "\u001b[1m5542/5542\u001b[0m \u001b[32m━━━━━━━━━━━━━━━━━━━━\u001b[0m\u001b[37m\u001b[0m \u001b[1m20s\u001b[0m 4ms/step - accuracy: 0.7230 - loss: 0.5532 - val_accuracy: 0.7397 - val_loss: 0.5370\n",
            "Epoch 31/50\n",
            "\u001b[1m5542/5542\u001b[0m \u001b[32m━━━━━━━━━━━━━━━━━━━━\u001b[0m\u001b[37m\u001b[0m \u001b[1m19s\u001b[0m 3ms/step - accuracy: 0.7233 - loss: 0.5544 - val_accuracy: 0.7350 - val_loss: 0.5294\n",
            "Epoch 32/50\n",
            "\u001b[1m5542/5542\u001b[0m \u001b[32m━━━━━━━━━━━━━━━━━━━━\u001b[0m\u001b[37m\u001b[0m \u001b[1m22s\u001b[0m 4ms/step - accuracy: 0.7226 - loss: 0.5533 - val_accuracy: 0.7369 - val_loss: 0.5404\n",
            "Epoch 33/50\n",
            "\u001b[1m5542/5542\u001b[0m \u001b[32m━━━━━━━━━━━━━━━━━━━━\u001b[0m\u001b[37m\u001b[0m \u001b[1m21s\u001b[0m 4ms/step - accuracy: 0.7240 - loss: 0.5525 - val_accuracy: 0.7353 - val_loss: 0.5299\n",
            "Epoch 34/50\n",
            "\u001b[1m5542/5542\u001b[0m \u001b[32m━━━━━━━━━━━━━━━━━━━━\u001b[0m\u001b[37m\u001b[0m \u001b[1m39s\u001b[0m 3ms/step - accuracy: 0.7249 - loss: 0.5508 - val_accuracy: 0.7407 - val_loss: 0.5303\n",
            "Epoch 35/50\n",
            "\u001b[1m5542/5542\u001b[0m \u001b[32m━━━━━━━━━━━━━━━━━━━━\u001b[0m\u001b[37m\u001b[0m \u001b[1m20s\u001b[0m 4ms/step - accuracy: 0.7246 - loss: 0.5502 - val_accuracy: 0.7320 - val_loss: 0.5340\n",
            "Epoch 36/50\n",
            "\u001b[1m5542/5542\u001b[0m \u001b[32m━━━━━━━━━━━━━━━━━━━━\u001b[0m\u001b[37m\u001b[0m \u001b[1m24s\u001b[0m 4ms/step - accuracy: 0.7243 - loss: 0.5522 - val_accuracy: 0.7285 - val_loss: 0.5354\n",
            "Epoch 37/50\n",
            "\u001b[1m5542/5542\u001b[0m \u001b[32m━━━━━━━━━━━━━━━━━━━━\u001b[0m\u001b[37m\u001b[0m \u001b[1m19s\u001b[0m 3ms/step - accuracy: 0.7250 - loss: 0.5492 - val_accuracy: 0.7413 - val_loss: 0.5278\n",
            "Epoch 38/50\n",
            "\u001b[1m5542/5542\u001b[0m \u001b[32m━━━━━━━━━━━━━━━━━━━━\u001b[0m\u001b[37m\u001b[0m \u001b[1m19s\u001b[0m 3ms/step - accuracy: 0.7270 - loss: 0.5472 - val_accuracy: 0.7398 - val_loss: 0.5318\n",
            "Epoch 39/50\n",
            "\u001b[1m5542/5542\u001b[0m \u001b[32m━━━━━━━━━━━━━━━━━━━━\u001b[0m\u001b[37m\u001b[0m \u001b[1m20s\u001b[0m 4ms/step - accuracy: 0.7263 - loss: 0.5476 - val_accuracy: 0.7392 - val_loss: 0.5272\n",
            "Epoch 40/50\n",
            "\u001b[1m5542/5542\u001b[0m \u001b[32m━━━━━━━━━━━━━━━━━━━━\u001b[0m\u001b[37m\u001b[0m \u001b[1m20s\u001b[0m 4ms/step - accuracy: 0.7284 - loss: 0.5473 - val_accuracy: 0.7445 - val_loss: 0.5267\n",
            "Epoch 41/50\n",
            "\u001b[1m5542/5542\u001b[0m \u001b[32m━━━━━━━━━━━━━━━━━━━━\u001b[0m\u001b[37m\u001b[0m \u001b[1m23s\u001b[0m 4ms/step - accuracy: 0.7279 - loss: 0.5475 - val_accuracy: 0.7416 - val_loss: 0.5235\n",
            "Epoch 42/50\n",
            "\u001b[1m5542/5542\u001b[0m \u001b[32m━━━━━━━━━━━━━━━━━━━━\u001b[0m\u001b[37m\u001b[0m \u001b[1m38s\u001b[0m 4ms/step - accuracy: 0.7280 - loss: 0.5475 - val_accuracy: 0.7393 - val_loss: 0.5245\n",
            "Epoch 43/50\n",
            "\u001b[1m5542/5542\u001b[0m \u001b[32m━━━━━━━━━━━━━━━━━━━━\u001b[0m\u001b[37m\u001b[0m \u001b[1m39s\u001b[0m 3ms/step - accuracy: 0.7275 - loss: 0.5465 - val_accuracy: 0.7422 - val_loss: 0.5241\n",
            "Epoch 44/50\n",
            "\u001b[1m2092/5542\u001b[0m \u001b[32m━━━━━━━\u001b[0m\u001b[37m━━━━━━━━━━━━━\u001b[0m \u001b[1m12s\u001b[0m 4ms/step - accuracy: 0.7331 - loss: 0.5418"
          ]
        }
      ],
      "source": [
        "# 5. Construir o modelo MLP\n",
        "model = Sequential()\n",
        "model.add(Dense(256, input_dim=X_train.shape[1], activation='relu'))  # Primeira camada oculta com 300 neurônios\n",
        "model.add(Dropout(0.5))  # 50% dos neurônios serão desativados durante o treino\n",
        "model.add(Dense(128, activation='relu'))  # Segunda camada oculta com 100 neurônios\n",
        "model.add(Dropout(0.5))\n",
        "model.add(Dense(64, activation='relu'))  # Segunda camada oculta com 100 neurônios\n",
        "model.add(Dropout(0.5))\n",
        "model.add(Dense(32, activation='relu'))  # Segunda camada oculta com 100 neurônios\n",
        "model.add(Dropout(0.5))\n",
        "model.add(Dense(1, activation='sigmoid'))  # Camada de saída com 1 neurônio (saída binária)\n",
        "\n",
        "# 6. Compilar o modelo\n",
        "model.compile(optimizer=Adam(learning_rate=0.001), loss='binary_crossentropy', metrics=['accuracy'])\n",
        "\n",
        "#earling stop\n",
        "early_stopping = EarlyStopping(monitor='val_loss', patience=10, restore_best_weights=True)\n",
        "\n",
        "# 7. Treinar o modelo\n",
        "history = model.fit(X_train, y_train, epochs=50, batch_size=32, validation_split=0.2, callbacks=[early_stopping])"
      ]
    },
    {
      "cell_type": "markdown",
      "source": [
        "#Métricas de desempenho"
      ],
      "metadata": {
        "id": "29DQOT4UEUf8"
      }
    },
    {
      "cell_type": "code",
      "source": [
        "# 8. Avaliar o modelo\n",
        "y_pred = (model.predict(X_test) > 0.5).astype('int32')  # Previsões\n",
        "accuracy = accuracy_score(y_test, y_pred)  # Acurácia\n",
        "\n",
        "print(f\"Acurácia no conjunto de teste: {accuracy:.4f}\")"
      ],
      "metadata": {
        "id": "XVOtSnrBBMql",
        "colab": {
          "base_uri": "https://localhost:8080/"
        },
        "outputId": "5bcbc837-d299-435f-de91-53b6ac2a48de"
      },
      "execution_count": 80,
      "outputs": [
        {
          "output_type": "stream",
          "name": "stdout",
          "text": [
            "\u001b[1m1732/1732\u001b[0m \u001b[32m━━━━━━━━━━━━━━━━━━━━\u001b[0m\u001b[37m\u001b[0m \u001b[1m2s\u001b[0m 1ms/step\n",
            "Acurácia no conjunto de teste: 0.7479\n"
          ]
        }
      ]
    },
    {
      "cell_type": "code",
      "source": [
        "import pandas as pd\n",
        "import matplotlib.pyplot as plt\n",
        "\n",
        "pd.DataFrame(history.history).plot(figsize=(8,5))\n",
        "plt.grid(True)\n",
        "plt.gca().set_ylim(0,1) # ajusta o eixo y para os limites de 0 a 1\n",
        "plt.show()"
      ],
      "metadata": {
        "colab": {
          "base_uri": "https://localhost:8080/",
          "height": 451
        },
        "id": "jWaX79CyHHBF",
        "outputId": "f47ce5bc-9211-48ae-f04e-0d1d983d535e"
      },
      "execution_count": 81,
      "outputs": [
        {
          "output_type": "display_data",
          "data": {
            "text/plain": [
              "<Figure size 800x500 with 1 Axes>"
            ],
            "image/png": "[encoded data removed]"
          },
          "metadata": {}
        }
      ]
    }
  ]
}